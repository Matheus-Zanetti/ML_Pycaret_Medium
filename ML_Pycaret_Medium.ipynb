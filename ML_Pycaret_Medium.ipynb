{
 "cells": [
  {
   "cell_type": "markdown",
   "metadata": {},
   "source": [
    "# Previsão de Doença Hepática: Simplificando a Aplicação de Machine Learning com PyCaret"
   ]
  },
  {
   "cell_type": "markdown",
   "metadata": {},
   "source": [
    "A complexidade de um projeto de machine learning vai muito além da simples implementação de um modelo; diversos aspectos são considerados para alcançar resultados eficazes. O processo é exaustivo, envolvendo desde a pré-tratamento das variáveis e o balanceamento de classes até a escolha do modelo e a otimização de seus parâmetros. Cada uma dessas etapas consome tempo e exige foco do cientista de dados para garantir a implementação de um modelo eficaz."
   ]
  },
  {
   "cell_type": "markdown",
   "metadata": {},
   "source": [
    "Para resolver esses desafios, surgiu o PyCaret. O PyCaret é uma biblioteca de machine learning em Python, de código aberto e com abordagem low-code. Esta biblioteca simplifica os fluxos de trabalho em projetos de machine learning, acelerando o ciclo de experimentação de modelos e aumentando a produtividade do cientista de dados."
   ]
  },
  {
   "cell_type": "markdown",
   "metadata": {},
   "source": [
    "Para exemplificar os benefícios de se usar o PyCaret vou utilizar um projeto da Kaggle de previsão de doenças hepáticas, segue o link da base de dados no site da Kaggle e vamos ao projeto."
   ]
  },
  {
   "cell_type": "markdown",
   "metadata": {},
   "source": [
    "Lembrando que o objetivo desse post é apresentar o PyCaret e suas principais ferramentas, não vamos se atentar aos problemas da base de dados"
   ]
  },
  {
   "cell_type": "markdown",
   "metadata": {},
   "source": [
    "## Etapas do Projeto\n",
    "\n",
    "- Entendimento do Problema\n",
    "- Importação das Dependências e Carregamento do Dados\n",
    "- Breve entendimento sobre a base de dados\n",
    "- Treinamento e Avaliação do Modelo\n",
    "- Testando o modelo\n",
    "- Finalização do Projeto\n"
   ]
  },
  {
   "cell_type": "markdown",
   "metadata": {},
   "source": [
    "## Entendimento do problema"
   ]
  },
  {
   "cell_type": "markdown",
   "metadata": {},
   "source": [
    "Um hospital coletou registros de exames de 1.700 pacientes com o objetivo de diagnosticar doenças hepáticas.\n",
    "\n",
    "Nosso objetivo é desenvolver um modelo capaz de prever, de forma eficaz, quais pacientes possuem problemas hepáticos e identificar as variáveis que têm maior impacto nesses diagnósticos."
   ]
  },
  {
   "cell_type": "markdown",
   "metadata": {},
   "source": [
    "## Importação das Dependencias e carregamento dos dados"
   ]
  },
  {
   "cell_type": "code",
   "execution_count": 19,
   "metadata": {},
   "outputs": [],
   "source": [
    "import pandas as pd\n",
    "from pycaret import classification\n",
    "from pycaret.classification import *\n",
    "\n",
    "df = pd.read_csv('archive\\Liver_disease_data.csv')"
   ]
  },
  {
   "cell_type": "markdown",
   "metadata": {},
   "source": [
    "Como nosso problema é de classificação vamos importar apenas o módulo classification do pycaret"
   ]
  },
  {
   "cell_type": "markdown",
   "metadata": {},
   "source": [
    "## Breve entendimento sobre a base de dados"
   ]
  },
  {
   "cell_type": "code",
   "execution_count": 20,
   "metadata": {},
   "outputs": [
    {
     "data": {
      "text/html": [
       "<div>\n",
       "<style scoped>\n",
       "    .dataframe tbody tr th:only-of-type {\n",
       "        vertical-align: middle;\n",
       "    }\n",
       "\n",
       "    .dataframe tbody tr th {\n",
       "        vertical-align: top;\n",
       "    }\n",
       "\n",
       "    .dataframe thead th {\n",
       "        text-align: right;\n",
       "    }\n",
       "</style>\n",
       "<table border=\"1\" class=\"dataframe\">\n",
       "  <thead>\n",
       "    <tr style=\"text-align: right;\">\n",
       "      <th></th>\n",
       "      <th>Age</th>\n",
       "      <th>Gender</th>\n",
       "      <th>BMI</th>\n",
       "      <th>AlcoholConsumption</th>\n",
       "      <th>Smoking</th>\n",
       "      <th>GeneticRisk</th>\n",
       "      <th>PhysicalActivity</th>\n",
       "      <th>Diabetes</th>\n",
       "      <th>Hypertension</th>\n",
       "      <th>LiverFunctionTest</th>\n",
       "      <th>Diagnosis</th>\n",
       "    </tr>\n",
       "  </thead>\n",
       "  <tbody>\n",
       "    <tr>\n",
       "      <th>0</th>\n",
       "      <td>58</td>\n",
       "      <td>0</td>\n",
       "      <td>35.857584</td>\n",
       "      <td>17.272828</td>\n",
       "      <td>0</td>\n",
       "      <td>1</td>\n",
       "      <td>0.658940</td>\n",
       "      <td>0</td>\n",
       "      <td>0</td>\n",
       "      <td>42.734240</td>\n",
       "      <td>1</td>\n",
       "    </tr>\n",
       "    <tr>\n",
       "      <th>1</th>\n",
       "      <td>71</td>\n",
       "      <td>1</td>\n",
       "      <td>30.732470</td>\n",
       "      <td>2.201266</td>\n",
       "      <td>0</td>\n",
       "      <td>1</td>\n",
       "      <td>1.670557</td>\n",
       "      <td>1</td>\n",
       "      <td>0</td>\n",
       "      <td>67.309822</td>\n",
       "      <td>1</td>\n",
       "    </tr>\n",
       "    <tr>\n",
       "      <th>2</th>\n",
       "      <td>48</td>\n",
       "      <td>0</td>\n",
       "      <td>19.971407</td>\n",
       "      <td>18.500944</td>\n",
       "      <td>0</td>\n",
       "      <td>0</td>\n",
       "      <td>9.928308</td>\n",
       "      <td>0</td>\n",
       "      <td>0</td>\n",
       "      <td>63.738956</td>\n",
       "      <td>0</td>\n",
       "    </tr>\n",
       "    <tr>\n",
       "      <th>3</th>\n",
       "      <td>34</td>\n",
       "      <td>1</td>\n",
       "      <td>16.615417</td>\n",
       "      <td>12.632870</td>\n",
       "      <td>0</td>\n",
       "      <td>0</td>\n",
       "      <td>5.630129</td>\n",
       "      <td>0</td>\n",
       "      <td>0</td>\n",
       "      <td>64.555873</td>\n",
       "      <td>1</td>\n",
       "    </tr>\n",
       "    <tr>\n",
       "      <th>4</th>\n",
       "      <td>62</td>\n",
       "      <td>1</td>\n",
       "      <td>16.065830</td>\n",
       "      <td>1.087815</td>\n",
       "      <td>0</td>\n",
       "      <td>1</td>\n",
       "      <td>3.566218</td>\n",
       "      <td>1</td>\n",
       "      <td>0</td>\n",
       "      <td>77.868689</td>\n",
       "      <td>1</td>\n",
       "    </tr>\n",
       "  </tbody>\n",
       "</table>\n",
       "</div>"
      ],
      "text/plain": [
       "   Age  Gender        BMI  AlcoholConsumption  Smoking  GeneticRisk  \\\n",
       "0   58       0  35.857584           17.272828        0            1   \n",
       "1   71       1  30.732470            2.201266        0            1   \n",
       "2   48       0  19.971407           18.500944        0            0   \n",
       "3   34       1  16.615417           12.632870        0            0   \n",
       "4   62       1  16.065830            1.087815        0            1   \n",
       "\n",
       "   PhysicalActivity  Diabetes  Hypertension  LiverFunctionTest  Diagnosis  \n",
       "0          0.658940         0             0          42.734240          1  \n",
       "1          1.670557         1             0          67.309822          1  \n",
       "2          9.928308         0             0          63.738956          0  \n",
       "3          5.630129         0             0          64.555873          1  \n",
       "4          3.566218         1             0          77.868689          1  "
      ]
     },
     "execution_count": 20,
     "metadata": {},
     "output_type": "execute_result"
    }
   ],
   "source": [
    "df.head()"
   ]
  },
  {
   "cell_type": "code",
   "execution_count": 38,
   "metadata": {},
   "outputs": [],
   "source": [
    "#Para que não ocorra nenhum erro de interpretação vou fazer uma tradução das colunas para o pt-br\n",
    "df.columns = ['Idade', 'Gênero', 'IMC', 'Consumo de álcool', 'Tabagismo', 'Risco genético', 'Atividade física',\n",
    "              'Diabetes', 'Hipertensão', 'Teste de função hepática', 'Diagnóstico']"
   ]
  },
  {
   "cell_type": "code",
   "execution_count": 39,
   "metadata": {},
   "outputs": [
    {
     "name": "stdout",
     "output_type": "stream",
     "text": [
      "<class 'pandas.core.frame.DataFrame'>\n",
      "RangeIndex: 1700 entries, 0 to 1699\n",
      "Data columns (total 11 columns):\n",
      " #   Column                    Non-Null Count  Dtype  \n",
      "---  ------                    --------------  -----  \n",
      " 0   Idade                     1700 non-null   int64  \n",
      " 1   Gênero                    1700 non-null   int64  \n",
      " 2   IMC                       1700 non-null   float64\n",
      " 3   Consumo de álcool         1700 non-null   float64\n",
      " 4   Tabagismo                 1700 non-null   int64  \n",
      " 5   Risco genético            1700 non-null   int64  \n",
      " 6   Atividade física          1700 non-null   float64\n",
      " 7   Diabetes                  1700 non-null   int64  \n",
      " 8   Hipertensão               1700 non-null   int64  \n",
      " 9   Teste de função hepática  1700 non-null   float64\n",
      " 10  Diagnóstico               1700 non-null   int64  \n",
      "dtypes: float64(4), int64(7)\n",
      "memory usage: 146.2 KB\n"
     ]
    }
   ],
   "source": [
    "df.info()"
   ]
  },
  {
   "cell_type": "markdown",
   "metadata": {},
   "source": [
    "A nossa variável alvo é o Diagnóstico"
   ]
  },
  {
   "cell_type": "code",
   "execution_count": 41,
   "metadata": {},
   "outputs": [
    {
     "name": "stdout",
     "output_type": "stream",
     "text": [
      "Quantidade de diagnósticos positivos: 936 \n",
      "Quantidade de diagnósticos negativos: 764 \n"
     ]
    }
   ],
   "source": [
    "#Verificando se a base de dados esta desbalanceada\n",
    "positivos = df[df['Diagnóstico'] == 1].shape[0]\n",
    "negativos = df[df['Diagnóstico'] == 0].shape[0]\n",
    "\n",
    "print(f\"Quantidade de diagnósticos positivos: {positivos} \"  )\n",
    "print(f\"Quantidade de diagnósticos negativos: {negativos} \"  )"
   ]
  },
  {
   "cell_type": "markdown",
   "metadata": {},
   "source": [
    "Sobre a base de dados, a nossa variável alvo está na coluna 'Diagnóstico', nossa base de dados está levemente balanceada, e os valores categóricos já estão em formto numérico."
   ]
  },
  {
   "cell_type": "markdown",
   "metadata": {},
   "source": [
    "# Treinamento e Avaliação do Modelo"
   ]
  },
  {
   "cell_type": "markdown",
   "metadata": {},
   "source": [
    "Com as informações descritas na etapa anterior vamos ao modelo."
   ]
  },
  {
   "cell_type": "code",
   "execution_count": 42,
   "metadata": {},
   "outputs": [
    {
     "data": {
      "text/html": [
       "<style type=\"text/css\">\n",
       "#T_b7476_row8_col1, #T_b7476_row12_col1, #T_b7476_row14_col1 {\n",
       "  background-color: lightgreen;\n",
       "}\n",
       "</style>\n",
       "<table id=\"T_b7476\">\n",
       "  <thead>\n",
       "    <tr>\n",
       "      <th class=\"blank level0\" >&nbsp;</th>\n",
       "      <th id=\"T_b7476_level0_col0\" class=\"col_heading level0 col0\" >Description</th>\n",
       "      <th id=\"T_b7476_level0_col1\" class=\"col_heading level0 col1\" >Value</th>\n",
       "    </tr>\n",
       "  </thead>\n",
       "  <tbody>\n",
       "    <tr>\n",
       "      <th id=\"T_b7476_level0_row0\" class=\"row_heading level0 row0\" >0</th>\n",
       "      <td id=\"T_b7476_row0_col0\" class=\"data row0 col0\" >Session id</td>\n",
       "      <td id=\"T_b7476_row0_col1\" class=\"data row0 col1\" >8104</td>\n",
       "    </tr>\n",
       "    <tr>\n",
       "      <th id=\"T_b7476_level0_row1\" class=\"row_heading level0 row1\" >1</th>\n",
       "      <td id=\"T_b7476_row1_col0\" class=\"data row1 col0\" >Target</td>\n",
       "      <td id=\"T_b7476_row1_col1\" class=\"data row1 col1\" >Diagnóstico</td>\n",
       "    </tr>\n",
       "    <tr>\n",
       "      <th id=\"T_b7476_level0_row2\" class=\"row_heading level0 row2\" >2</th>\n",
       "      <td id=\"T_b7476_row2_col0\" class=\"data row2 col0\" >Target type</td>\n",
       "      <td id=\"T_b7476_row2_col1\" class=\"data row2 col1\" >Binary</td>\n",
       "    </tr>\n",
       "    <tr>\n",
       "      <th id=\"T_b7476_level0_row3\" class=\"row_heading level0 row3\" >3</th>\n",
       "      <td id=\"T_b7476_row3_col0\" class=\"data row3 col0\" >Original data shape</td>\n",
       "      <td id=\"T_b7476_row3_col1\" class=\"data row3 col1\" >(1700, 11)</td>\n",
       "    </tr>\n",
       "    <tr>\n",
       "      <th id=\"T_b7476_level0_row4\" class=\"row_heading level0 row4\" >4</th>\n",
       "      <td id=\"T_b7476_row4_col0\" class=\"data row4 col0\" >Transformed data shape</td>\n",
       "      <td id=\"T_b7476_row4_col1\" class=\"data row4 col1\" >(1820, 11)</td>\n",
       "    </tr>\n",
       "    <tr>\n",
       "      <th id=\"T_b7476_level0_row5\" class=\"row_heading level0 row5\" >5</th>\n",
       "      <td id=\"T_b7476_row5_col0\" class=\"data row5 col0\" >Transformed train set shape</td>\n",
       "      <td id=\"T_b7476_row5_col1\" class=\"data row5 col1\" >(1310, 11)</td>\n",
       "    </tr>\n",
       "    <tr>\n",
       "      <th id=\"T_b7476_level0_row6\" class=\"row_heading level0 row6\" >6</th>\n",
       "      <td id=\"T_b7476_row6_col0\" class=\"data row6 col0\" >Transformed test set shape</td>\n",
       "      <td id=\"T_b7476_row6_col1\" class=\"data row6 col1\" >(510, 11)</td>\n",
       "    </tr>\n",
       "    <tr>\n",
       "      <th id=\"T_b7476_level0_row7\" class=\"row_heading level0 row7\" >7</th>\n",
       "      <td id=\"T_b7476_row7_col0\" class=\"data row7 col0\" >Numeric features</td>\n",
       "      <td id=\"T_b7476_row7_col1\" class=\"data row7 col1\" >10</td>\n",
       "    </tr>\n",
       "    <tr>\n",
       "      <th id=\"T_b7476_level0_row8\" class=\"row_heading level0 row8\" >8</th>\n",
       "      <td id=\"T_b7476_row8_col0\" class=\"data row8 col0\" >Preprocess</td>\n",
       "      <td id=\"T_b7476_row8_col1\" class=\"data row8 col1\" >True</td>\n",
       "    </tr>\n",
       "    <tr>\n",
       "      <th id=\"T_b7476_level0_row9\" class=\"row_heading level0 row9\" >9</th>\n",
       "      <td id=\"T_b7476_row9_col0\" class=\"data row9 col0\" >Imputation type</td>\n",
       "      <td id=\"T_b7476_row9_col1\" class=\"data row9 col1\" >simple</td>\n",
       "    </tr>\n",
       "    <tr>\n",
       "      <th id=\"T_b7476_level0_row10\" class=\"row_heading level0 row10\" >10</th>\n",
       "      <td id=\"T_b7476_row10_col0\" class=\"data row10 col0\" >Numeric imputation</td>\n",
       "      <td id=\"T_b7476_row10_col1\" class=\"data row10 col1\" >mean</td>\n",
       "    </tr>\n",
       "    <tr>\n",
       "      <th id=\"T_b7476_level0_row11\" class=\"row_heading level0 row11\" >11</th>\n",
       "      <td id=\"T_b7476_row11_col0\" class=\"data row11 col0\" >Categorical imputation</td>\n",
       "      <td id=\"T_b7476_row11_col1\" class=\"data row11 col1\" >mode</td>\n",
       "    </tr>\n",
       "    <tr>\n",
       "      <th id=\"T_b7476_level0_row12\" class=\"row_heading level0 row12\" >12</th>\n",
       "      <td id=\"T_b7476_row12_col0\" class=\"data row12 col0\" >Fix imbalance</td>\n",
       "      <td id=\"T_b7476_row12_col1\" class=\"data row12 col1\" >True</td>\n",
       "    </tr>\n",
       "    <tr>\n",
       "      <th id=\"T_b7476_level0_row13\" class=\"row_heading level0 row13\" >13</th>\n",
       "      <td id=\"T_b7476_row13_col0\" class=\"data row13 col0\" >Fix imbalance method</td>\n",
       "      <td id=\"T_b7476_row13_col1\" class=\"data row13 col1\" >SMOTE</td>\n",
       "    </tr>\n",
       "    <tr>\n",
       "      <th id=\"T_b7476_level0_row14\" class=\"row_heading level0 row14\" >14</th>\n",
       "      <td id=\"T_b7476_row14_col0\" class=\"data row14 col0\" >Normalize</td>\n",
       "      <td id=\"T_b7476_row14_col1\" class=\"data row14 col1\" >True</td>\n",
       "    </tr>\n",
       "    <tr>\n",
       "      <th id=\"T_b7476_level0_row15\" class=\"row_heading level0 row15\" >15</th>\n",
       "      <td id=\"T_b7476_row15_col0\" class=\"data row15 col0\" >Normalize method</td>\n",
       "      <td id=\"T_b7476_row15_col1\" class=\"data row15 col1\" >zscore</td>\n",
       "    </tr>\n",
       "    <tr>\n",
       "      <th id=\"T_b7476_level0_row16\" class=\"row_heading level0 row16\" >16</th>\n",
       "      <td id=\"T_b7476_row16_col0\" class=\"data row16 col0\" >Fold Generator</td>\n",
       "      <td id=\"T_b7476_row16_col1\" class=\"data row16 col1\" >StratifiedKFold</td>\n",
       "    </tr>\n",
       "    <tr>\n",
       "      <th id=\"T_b7476_level0_row17\" class=\"row_heading level0 row17\" >17</th>\n",
       "      <td id=\"T_b7476_row17_col0\" class=\"data row17 col0\" >Fold Number</td>\n",
       "      <td id=\"T_b7476_row17_col1\" class=\"data row17 col1\" >10</td>\n",
       "    </tr>\n",
       "    <tr>\n",
       "      <th id=\"T_b7476_level0_row18\" class=\"row_heading level0 row18\" >18</th>\n",
       "      <td id=\"T_b7476_row18_col0\" class=\"data row18 col0\" >CPU Jobs</td>\n",
       "      <td id=\"T_b7476_row18_col1\" class=\"data row18 col1\" >-1</td>\n",
       "    </tr>\n",
       "    <tr>\n",
       "      <th id=\"T_b7476_level0_row19\" class=\"row_heading level0 row19\" >19</th>\n",
       "      <td id=\"T_b7476_row19_col0\" class=\"data row19 col0\" >Use GPU</td>\n",
       "      <td id=\"T_b7476_row19_col1\" class=\"data row19 col1\" >False</td>\n",
       "    </tr>\n",
       "    <tr>\n",
       "      <th id=\"T_b7476_level0_row20\" class=\"row_heading level0 row20\" >20</th>\n",
       "      <td id=\"T_b7476_row20_col0\" class=\"data row20 col0\" >Log Experiment</td>\n",
       "      <td id=\"T_b7476_row20_col1\" class=\"data row20 col1\" >False</td>\n",
       "    </tr>\n",
       "    <tr>\n",
       "      <th id=\"T_b7476_level0_row21\" class=\"row_heading level0 row21\" >21</th>\n",
       "      <td id=\"T_b7476_row21_col0\" class=\"data row21 col0\" >Experiment Name</td>\n",
       "      <td id=\"T_b7476_row21_col1\" class=\"data row21 col1\" >clf-default-name</td>\n",
       "    </tr>\n",
       "    <tr>\n",
       "      <th id=\"T_b7476_level0_row22\" class=\"row_heading level0 row22\" >22</th>\n",
       "      <td id=\"T_b7476_row22_col0\" class=\"data row22 col0\" >USI</td>\n",
       "      <td id=\"T_b7476_row22_col1\" class=\"data row22 col1\" >fb26</td>\n",
       "    </tr>\n",
       "  </tbody>\n",
       "</table>\n"
      ],
      "text/plain": [
       "<pandas.io.formats.style.Styler at 0x22b93cf7d00>"
      ]
     },
     "metadata": {},
     "output_type": "display_data"
    }
   ],
   "source": [
    "inicialização = setup(df, target='Diagnóstico', normalize=True, fix_imbalance=True)"
   ]
  },
  {
   "cell_type": "markdown",
   "metadata": {},
   "source": [
    "Primeiramente vamos falar sobre o comando 'setup', ele inicializa o ambiente de treinamento e cria o pipeline de trasnformação do modelo. Ele recebe de forma obrigatória os parâmetros correspondente a base de dados e o 'target' que se refere variável alvo.\n",
    "\n",
    "O parâmetro 'normalize' é para normalizar a base dados, por padrão o pycaret utiliza o método zscore para normalizar e o parâmetro fix_imbalance para fazer o balanceamento da base de dados."
   ]
  },
  {
   "cell_type": "code",
   "execution_count": 43,
   "metadata": {},
   "outputs": [
    {
     "data": {
      "text/html": [],
      "text/plain": [
       "<IPython.core.display.HTML object>"
      ]
     },
     "metadata": {},
     "output_type": "display_data"
    },
    {
     "data": {
      "text/html": [
       "<style type=\"text/css\">\n",
       "#T_1e231 th {\n",
       "  text-align: left;\n",
       "}\n",
       "#T_1e231_row0_col0, #T_1e231_row0_col4, #T_1e231_row1_col0, #T_1e231_row1_col1, #T_1e231_row1_col2, #T_1e231_row1_col3, #T_1e231_row1_col5, #T_1e231_row1_col6, #T_1e231_row1_col7, #T_1e231_row2_col0, #T_1e231_row2_col1, #T_1e231_row2_col2, #T_1e231_row2_col3, #T_1e231_row2_col4, #T_1e231_row2_col5, #T_1e231_row2_col6, #T_1e231_row2_col7, #T_1e231_row3_col0, #T_1e231_row3_col1, #T_1e231_row3_col2, #T_1e231_row3_col3, #T_1e231_row3_col4, #T_1e231_row3_col5, #T_1e231_row3_col6, #T_1e231_row3_col7, #T_1e231_row4_col0, #T_1e231_row4_col1, #T_1e231_row4_col2, #T_1e231_row4_col3, #T_1e231_row4_col4, #T_1e231_row4_col5, #T_1e231_row4_col6, #T_1e231_row4_col7, #T_1e231_row5_col0, #T_1e231_row5_col1, #T_1e231_row5_col2, #T_1e231_row5_col3, #T_1e231_row5_col4, #T_1e231_row5_col5, #T_1e231_row5_col6, #T_1e231_row5_col7, #T_1e231_row6_col0, #T_1e231_row6_col1, #T_1e231_row6_col2, #T_1e231_row6_col3, #T_1e231_row6_col4, #T_1e231_row6_col5, #T_1e231_row6_col6, #T_1e231_row6_col7, #T_1e231_row7_col0, #T_1e231_row7_col1, #T_1e231_row7_col2, #T_1e231_row7_col3, #T_1e231_row7_col4, #T_1e231_row7_col5, #T_1e231_row7_col6, #T_1e231_row7_col7, #T_1e231_row8_col0, #T_1e231_row8_col1, #T_1e231_row8_col2, #T_1e231_row8_col3, #T_1e231_row8_col4, #T_1e231_row8_col5, #T_1e231_row8_col6, #T_1e231_row8_col7, #T_1e231_row9_col0, #T_1e231_row9_col1, #T_1e231_row9_col2, #T_1e231_row9_col3, #T_1e231_row9_col4, #T_1e231_row9_col5, #T_1e231_row9_col6, #T_1e231_row9_col7, #T_1e231_row10_col0, #T_1e231_row10_col1, #T_1e231_row10_col2, #T_1e231_row10_col3, #T_1e231_row10_col4, #T_1e231_row10_col5, #T_1e231_row10_col6, #T_1e231_row10_col7, #T_1e231_row11_col0, #T_1e231_row11_col1, #T_1e231_row11_col2, #T_1e231_row11_col3, #T_1e231_row11_col4, #T_1e231_row11_col5, #T_1e231_row11_col6, #T_1e231_row11_col7, #T_1e231_row12_col0, #T_1e231_row12_col1, #T_1e231_row12_col2, #T_1e231_row12_col3, #T_1e231_row12_col4, #T_1e231_row12_col5, #T_1e231_row12_col6, #T_1e231_row12_col7, #T_1e231_row13_col0, #T_1e231_row13_col1, #T_1e231_row13_col2, #T_1e231_row13_col3, #T_1e231_row13_col4, #T_1e231_row13_col5, #T_1e231_row13_col6, #T_1e231_row13_col7 {\n",
       "  text-align: left;\n",
       "}\n",
       "#T_1e231_row0_col1, #T_1e231_row0_col2, #T_1e231_row0_col3, #T_1e231_row0_col5, #T_1e231_row0_col6, #T_1e231_row0_col7, #T_1e231_row1_col4 {\n",
       "  text-align: left;\n",
       "  background-color: yellow;\n",
       "}\n",
       "#T_1e231_row0_col8, #T_1e231_row1_col8, #T_1e231_row2_col8, #T_1e231_row3_col8, #T_1e231_row4_col8, #T_1e231_row5_col8, #T_1e231_row6_col8, #T_1e231_row8_col8, #T_1e231_row9_col8, #T_1e231_row10_col8, #T_1e231_row11_col8, #T_1e231_row12_col8, #T_1e231_row13_col8 {\n",
       "  text-align: left;\n",
       "  background-color: lightgrey;\n",
       "}\n",
       "#T_1e231_row7_col8 {\n",
       "  text-align: left;\n",
       "  background-color: yellow;\n",
       "  background-color: lightgrey;\n",
       "}\n",
       "</style>\n",
       "<table id=\"T_1e231\">\n",
       "  <thead>\n",
       "    <tr>\n",
       "      <th class=\"blank level0\" >&nbsp;</th>\n",
       "      <th id=\"T_1e231_level0_col0\" class=\"col_heading level0 col0\" >Model</th>\n",
       "      <th id=\"T_1e231_level0_col1\" class=\"col_heading level0 col1\" >Accuracy</th>\n",
       "      <th id=\"T_1e231_level0_col2\" class=\"col_heading level0 col2\" >AUC</th>\n",
       "      <th id=\"T_1e231_level0_col3\" class=\"col_heading level0 col3\" >Recall</th>\n",
       "      <th id=\"T_1e231_level0_col4\" class=\"col_heading level0 col4\" >Prec.</th>\n",
       "      <th id=\"T_1e231_level0_col5\" class=\"col_heading level0 col5\" >F1</th>\n",
       "      <th id=\"T_1e231_level0_col6\" class=\"col_heading level0 col6\" >Kappa</th>\n",
       "      <th id=\"T_1e231_level0_col7\" class=\"col_heading level0 col7\" >MCC</th>\n",
       "      <th id=\"T_1e231_level0_col8\" class=\"col_heading level0 col8\" >TT (Sec)</th>\n",
       "    </tr>\n",
       "  </thead>\n",
       "  <tbody>\n",
       "    <tr>\n",
       "      <th id=\"T_1e231_level0_row0\" class=\"row_heading level0 row0\" >gbc</th>\n",
       "      <td id=\"T_1e231_row0_col0\" class=\"data row0 col0\" >Gradient Boosting Classifier</td>\n",
       "      <td id=\"T_1e231_row0_col1\" class=\"data row0 col1\" >0.9059</td>\n",
       "      <td id=\"T_1e231_row0_col2\" class=\"data row0 col2\" >0.9472</td>\n",
       "      <td id=\"T_1e231_row0_col3\" class=\"data row0 col3\" >0.9206</td>\n",
       "      <td id=\"T_1e231_row0_col4\" class=\"data row0 col4\" >0.9103</td>\n",
       "      <td id=\"T_1e231_row0_col5\" class=\"data row0 col5\" >0.9151</td>\n",
       "      <td id=\"T_1e231_row0_col6\" class=\"data row0 col6\" >0.8095</td>\n",
       "      <td id=\"T_1e231_row0_col7\" class=\"data row0 col7\" >0.8102</td>\n",
       "      <td id=\"T_1e231_row0_col8\" class=\"data row0 col8\" >0.0460</td>\n",
       "    </tr>\n",
       "    <tr>\n",
       "      <th id=\"T_1e231_level0_row1\" class=\"row_heading level0 row1\" >ada</th>\n",
       "      <td id=\"T_1e231_row1_col0\" class=\"data row1 col0\" >Ada Boost Classifier</td>\n",
       "      <td id=\"T_1e231_row1_col1\" class=\"data row1 col1\" >0.9000</td>\n",
       "      <td id=\"T_1e231_row1_col2\" class=\"data row1 col2\" >0.9427</td>\n",
       "      <td id=\"T_1e231_row1_col3\" class=\"data row1 col3\" >0.8991</td>\n",
       "      <td id=\"T_1e231_row1_col4\" class=\"data row1 col4\" >0.9180</td>\n",
       "      <td id=\"T_1e231_row1_col5\" class=\"data row1 col5\" >0.9079</td>\n",
       "      <td id=\"T_1e231_row1_col6\" class=\"data row1 col6\" >0.7985</td>\n",
       "      <td id=\"T_1e231_row1_col7\" class=\"data row1 col7\" >0.7997</td>\n",
       "      <td id=\"T_1e231_row1_col8\" class=\"data row1 col8\" >0.0400</td>\n",
       "    </tr>\n",
       "    <tr>\n",
       "      <th id=\"T_1e231_level0_row2\" class=\"row_heading level0 row2\" >lightgbm</th>\n",
       "      <td id=\"T_1e231_row2_col0\" class=\"data row2 col0\" >Light Gradient Boosting Machine</td>\n",
       "      <td id=\"T_1e231_row2_col1\" class=\"data row2 col1\" >0.8924</td>\n",
       "      <td id=\"T_1e231_row2_col2\" class=\"data row2 col2\" >0.9448</td>\n",
       "      <td id=\"T_1e231_row2_col3\" class=\"data row2 col3\" >0.8947</td>\n",
       "      <td id=\"T_1e231_row2_col4\" class=\"data row2 col4\" >0.9099</td>\n",
       "      <td id=\"T_1e231_row2_col5\" class=\"data row2 col5\" >0.9015</td>\n",
       "      <td id=\"T_1e231_row2_col6\" class=\"data row2 col6\" >0.7830</td>\n",
       "      <td id=\"T_1e231_row2_col7\" class=\"data row2 col7\" >0.7846</td>\n",
       "      <td id=\"T_1e231_row2_col8\" class=\"data row2 col8\" >0.0850</td>\n",
       "    </tr>\n",
       "    <tr>\n",
       "      <th id=\"T_1e231_level0_row3\" class=\"row_heading level0 row3\" >rf</th>\n",
       "      <td id=\"T_1e231_row3_col0\" class=\"data row3 col0\" >Random Forest Classifier</td>\n",
       "      <td id=\"T_1e231_row3_col1\" class=\"data row3 col1\" >0.8899</td>\n",
       "      <td id=\"T_1e231_row3_col2\" class=\"data row3 col2\" >0.9451</td>\n",
       "      <td id=\"T_1e231_row3_col3\" class=\"data row3 col3\" >0.8947</td>\n",
       "      <td id=\"T_1e231_row3_col4\" class=\"data row3 col4\" >0.9056</td>\n",
       "      <td id=\"T_1e231_row3_col5\" class=\"data row3 col5\" >0.8995</td>\n",
       "      <td id=\"T_1e231_row3_col6\" class=\"data row3 col6\" >0.7778</td>\n",
       "      <td id=\"T_1e231_row3_col7\" class=\"data row3 col7\" >0.7791</td>\n",
       "      <td id=\"T_1e231_row3_col8\" class=\"data row3 col8\" >0.0730</td>\n",
       "    </tr>\n",
       "    <tr>\n",
       "      <th id=\"T_1e231_level0_row4\" class=\"row_heading level0 row4\" >et</th>\n",
       "      <td id=\"T_1e231_row4_col0\" class=\"data row4 col0\" >Extra Trees Classifier</td>\n",
       "      <td id=\"T_1e231_row4_col1\" class=\"data row4 col1\" >0.8613</td>\n",
       "      <td id=\"T_1e231_row4_col2\" class=\"data row4 col2\" >0.9317</td>\n",
       "      <td id=\"T_1e231_row4_col3\" class=\"data row4 col3\" >0.8871</td>\n",
       "      <td id=\"T_1e231_row4_col4\" class=\"data row4 col4\" >0.8666</td>\n",
       "      <td id=\"T_1e231_row4_col5\" class=\"data row4 col5\" >0.8754</td>\n",
       "      <td id=\"T_1e231_row4_col6\" class=\"data row4 col6\" >0.7190</td>\n",
       "      <td id=\"T_1e231_row4_col7\" class=\"data row4 col7\" >0.7225</td>\n",
       "      <td id=\"T_1e231_row4_col8\" class=\"data row4 col8\" >0.0530</td>\n",
       "    </tr>\n",
       "    <tr>\n",
       "      <th id=\"T_1e231_level0_row5\" class=\"row_heading level0 row5\" >lr</th>\n",
       "      <td id=\"T_1e231_row5_col0\" class=\"data row5 col0\" >Logistic Regression</td>\n",
       "      <td id=\"T_1e231_row5_col1\" class=\"data row5 col1\" >0.8286</td>\n",
       "      <td id=\"T_1e231_row5_col2\" class=\"data row5 col2\" >0.9073</td>\n",
       "      <td id=\"T_1e231_row5_col3\" class=\"data row5 col3\" >0.8336</td>\n",
       "      <td id=\"T_1e231_row5_col4\" class=\"data row5 col4\" >0.8540</td>\n",
       "      <td id=\"T_1e231_row5_col5\" class=\"data row5 col5\" >0.8426</td>\n",
       "      <td id=\"T_1e231_row5_col6\" class=\"data row5 col6\" >0.6543</td>\n",
       "      <td id=\"T_1e231_row5_col7\" class=\"data row5 col7\" >0.6565</td>\n",
       "      <td id=\"T_1e231_row5_col8\" class=\"data row5 col8\" >1.0900</td>\n",
       "    </tr>\n",
       "    <tr>\n",
       "      <th id=\"T_1e231_level0_row6\" class=\"row_heading level0 row6\" >dt</th>\n",
       "      <td id=\"T_1e231_row6_col0\" class=\"data row6 col0\" >Decision Tree Classifier</td>\n",
       "      <td id=\"T_1e231_row6_col1\" class=\"data row6 col1\" >0.8277</td>\n",
       "      <td id=\"T_1e231_row6_col2\" class=\"data row6 col2\" >0.8268</td>\n",
       "      <td id=\"T_1e231_row6_col3\" class=\"data row6 col3\" >0.8351</td>\n",
       "      <td id=\"T_1e231_row6_col4\" class=\"data row6 col4\" >0.8516</td>\n",
       "      <td id=\"T_1e231_row6_col5\" class=\"data row6 col5\" >0.8422</td>\n",
       "      <td id=\"T_1e231_row6_col6\" class=\"data row6 col6\" >0.6524</td>\n",
       "      <td id=\"T_1e231_row6_col7\" class=\"data row6 col7\" >0.6544</td>\n",
       "      <td id=\"T_1e231_row6_col8\" class=\"data row6 col8\" >0.0120</td>\n",
       "    </tr>\n",
       "    <tr>\n",
       "      <th id=\"T_1e231_level0_row7\" class=\"row_heading level0 row7\" >ridge</th>\n",
       "      <td id=\"T_1e231_row7_col0\" class=\"data row7 col0\" >Ridge Classifier</td>\n",
       "      <td id=\"T_1e231_row7_col1\" class=\"data row7 col1\" >0.8261</td>\n",
       "      <td id=\"T_1e231_row7_col2\" class=\"data row7 col2\" >0.9071</td>\n",
       "      <td id=\"T_1e231_row7_col3\" class=\"data row7 col3\" >0.8214</td>\n",
       "      <td id=\"T_1e231_row7_col4\" class=\"data row7 col4\" >0.8585</td>\n",
       "      <td id=\"T_1e231_row7_col5\" class=\"data row7 col5\" >0.8383</td>\n",
       "      <td id=\"T_1e231_row7_col6\" class=\"data row7 col6\" >0.6502</td>\n",
       "      <td id=\"T_1e231_row7_col7\" class=\"data row7 col7\" >0.6531</td>\n",
       "      <td id=\"T_1e231_row7_col8\" class=\"data row7 col8\" >0.0110</td>\n",
       "    </tr>\n",
       "    <tr>\n",
       "      <th id=\"T_1e231_level0_row8\" class=\"row_heading level0 row8\" >lda</th>\n",
       "      <td id=\"T_1e231_row8_col0\" class=\"data row8 col0\" >Linear Discriminant Analysis</td>\n",
       "      <td id=\"T_1e231_row8_col1\" class=\"data row8 col1\" >0.8261</td>\n",
       "      <td id=\"T_1e231_row8_col2\" class=\"data row8 col2\" >0.9074</td>\n",
       "      <td id=\"T_1e231_row8_col3\" class=\"data row8 col3\" >0.8229</td>\n",
       "      <td id=\"T_1e231_row8_col4\" class=\"data row8 col4\" >0.8575</td>\n",
       "      <td id=\"T_1e231_row8_col5\" class=\"data row8 col5\" >0.8385</td>\n",
       "      <td id=\"T_1e231_row8_col6\" class=\"data row8 col6\" >0.6501</td>\n",
       "      <td id=\"T_1e231_row8_col7\" class=\"data row8 col7\" >0.6530</td>\n",
       "      <td id=\"T_1e231_row8_col8\" class=\"data row8 col8\" >0.0120</td>\n",
       "    </tr>\n",
       "    <tr>\n",
       "      <th id=\"T_1e231_level0_row9\" class=\"row_heading level0 row9\" >qda</th>\n",
       "      <td id=\"T_1e231_row9_col0\" class=\"data row9 col0\" >Quadratic Discriminant Analysis</td>\n",
       "      <td id=\"T_1e231_row9_col1\" class=\"data row9 col1\" >0.8126</td>\n",
       "      <td id=\"T_1e231_row9_col2\" class=\"data row9 col2\" >0.8892</td>\n",
       "      <td id=\"T_1e231_row9_col3\" class=\"data row9 col3\" >0.8092</td>\n",
       "      <td id=\"T_1e231_row9_col4\" class=\"data row9 col4\" >0.8445</td>\n",
       "      <td id=\"T_1e231_row9_col5\" class=\"data row9 col5\" >0.8259</td>\n",
       "      <td id=\"T_1e231_row9_col6\" class=\"data row9 col6\" >0.6232</td>\n",
       "      <td id=\"T_1e231_row9_col7\" class=\"data row9 col7\" >0.6249</td>\n",
       "      <td id=\"T_1e231_row9_col8\" class=\"data row9 col8\" >0.0140</td>\n",
       "    </tr>\n",
       "    <tr>\n",
       "      <th id=\"T_1e231_level0_row10\" class=\"row_heading level0 row10\" >knn</th>\n",
       "      <td id=\"T_1e231_row10_col0\" class=\"data row10 col0\" >K Neighbors Classifier</td>\n",
       "      <td id=\"T_1e231_row10_col1\" class=\"data row10 col1\" >0.8092</td>\n",
       "      <td id=\"T_1e231_row10_col2\" class=\"data row10 col2\" >0.8838</td>\n",
       "      <td id=\"T_1e231_row10_col3\" class=\"data row10 col3\" >0.8046</td>\n",
       "      <td id=\"T_1e231_row10_col4\" class=\"data row10 col4\" >0.8426</td>\n",
       "      <td id=\"T_1e231_row10_col5\" class=\"data row10 col5\" >0.8219</td>\n",
       "      <td id=\"T_1e231_row10_col6\" class=\"data row10 col6\" >0.6167</td>\n",
       "      <td id=\"T_1e231_row10_col7\" class=\"data row10 col7\" >0.6193</td>\n",
       "      <td id=\"T_1e231_row10_col8\" class=\"data row10 col8\" >0.3260</td>\n",
       "    </tr>\n",
       "    <tr>\n",
       "      <th id=\"T_1e231_level0_row11\" class=\"row_heading level0 row11\" >nb</th>\n",
       "      <td id=\"T_1e231_row11_col0\" class=\"data row11 col0\" >Naive Bayes</td>\n",
       "      <td id=\"T_1e231_row11_col1\" class=\"data row11 col1\" >0.8034</td>\n",
       "      <td id=\"T_1e231_row11_col2\" class=\"data row11 col2\" >0.8718</td>\n",
       "      <td id=\"T_1e231_row11_col3\" class=\"data row11 col3\" >0.7802</td>\n",
       "      <td id=\"T_1e231_row11_col4\" class=\"data row11 col4\" >0.8505</td>\n",
       "      <td id=\"T_1e231_row11_col5\" class=\"data row11 col5\" >0.8135</td>\n",
       "      <td id=\"T_1e231_row11_col6\" class=\"data row11 col6\" >0.6064</td>\n",
       "      <td id=\"T_1e231_row11_col7\" class=\"data row11 col7\" >0.6095</td>\n",
       "      <td id=\"T_1e231_row11_col8\" class=\"data row11 col8\" >0.0120</td>\n",
       "    </tr>\n",
       "    <tr>\n",
       "      <th id=\"T_1e231_level0_row12\" class=\"row_heading level0 row12\" >svm</th>\n",
       "      <td id=\"T_1e231_row12_col0\" class=\"data row12 col0\" >SVM - Linear Kernel</td>\n",
       "      <td id=\"T_1e231_row12_col1\" class=\"data row12 col1\" >0.7874</td>\n",
       "      <td id=\"T_1e231_row12_col2\" class=\"data row12 col2\" >0.8832</td>\n",
       "      <td id=\"T_1e231_row12_col3\" class=\"data row12 col3\" >0.7788</td>\n",
       "      <td id=\"T_1e231_row12_col4\" class=\"data row12 col4\" >0.8333</td>\n",
       "      <td id=\"T_1e231_row12_col5\" class=\"data row12 col5\" >0.7999</td>\n",
       "      <td id=\"T_1e231_row12_col6\" class=\"data row12 col6\" >0.5733</td>\n",
       "      <td id=\"T_1e231_row12_col7\" class=\"data row12 col7\" >0.5816</td>\n",
       "      <td id=\"T_1e231_row12_col8\" class=\"data row12 col8\" >0.0120</td>\n",
       "    </tr>\n",
       "    <tr>\n",
       "      <th id=\"T_1e231_level0_row13\" class=\"row_heading level0 row13\" >dummy</th>\n",
       "      <td id=\"T_1e231_row13_col0\" class=\"data row13 col0\" >Dummy Classifier</td>\n",
       "      <td id=\"T_1e231_row13_col1\" class=\"data row13 col1\" >0.4496</td>\n",
       "      <td id=\"T_1e231_row13_col2\" class=\"data row13 col2\" >0.5000</td>\n",
       "      <td id=\"T_1e231_row13_col3\" class=\"data row13 col3\" >0.0000</td>\n",
       "      <td id=\"T_1e231_row13_col4\" class=\"data row13 col4\" >0.0000</td>\n",
       "      <td id=\"T_1e231_row13_col5\" class=\"data row13 col5\" >0.0000</td>\n",
       "      <td id=\"T_1e231_row13_col6\" class=\"data row13 col6\" >0.0000</td>\n",
       "      <td id=\"T_1e231_row13_col7\" class=\"data row13 col7\" >0.0000</td>\n",
       "      <td id=\"T_1e231_row13_col8\" class=\"data row13 col8\" >0.0120</td>\n",
       "    </tr>\n",
       "  </tbody>\n",
       "</table>\n"
      ],
      "text/plain": [
       "<pandas.io.formats.style.Styler at 0x22bdb47e6e0>"
      ]
     },
     "metadata": {},
     "output_type": "display_data"
    },
    {
     "data": {
      "text/html": [],
      "text/plain": [
       "<IPython.core.display.HTML object>"
      ]
     },
     "metadata": {},
     "output_type": "display_data"
    }
   ],
   "source": [
    "best_model = compare_models()"
   ]
  },
  {
   "cell_type": "markdown",
   "metadata": {},
   "source": [
    "O comando 'compare_models' compara uma série de algoritmos de machine learning e compara as principais métricas de avaliação do modelo. Por padrão o PyCaret ordena do maior para o menor utilizando o accuracy, mas podemos passar para o modelo qual métrica odenar utilizando o parâmetro 'sort'.\n",
    "\n",
    "Como o modelo gbc possui as melhores métricas do compare_models vamos escolher ele para continuar o nosso projeto."
   ]
  },
  {
   "cell_type": "markdown",
   "metadata": {},
   "source": [
    "Com o exemplo acima conseguir avaliar mais de 10 modelos de calssificação diferentes e escolher qual possui as melhores métricas. Imagina chegar a essa conclusão sem a utilização do PyCaret, seriam muitas linhas de código e dependendo do tamanho da base poderia demorar até dias para encontrar o melhor modelo."
   ]
  },
  {
   "cell_type": "markdown",
   "metadata": {},
   "source": [
    "Depois de encontrado o modelo que mais se adapta a nossa base vamos criar esse modelo e exibir as métricas de cada folds e o desvio padrão para cada métrica do modelo. Não vou me aprofundar muito sobre o que são cada métricas nem cada parâmetro, sugiro verificar a documentação."
   ]
  },
  {
   "cell_type": "code",
   "execution_count": 44,
   "metadata": {},
   "outputs": [
    {
     "data": {
      "text/html": [],
      "text/plain": [
       "<IPython.core.display.HTML object>"
      ]
     },
     "metadata": {},
     "output_type": "display_data"
    },
    {
     "data": {
      "text/html": [
       "<style type=\"text/css\">\n",
       "#T_b26e5_row10_col0, #T_b26e5_row10_col1, #T_b26e5_row10_col2, #T_b26e5_row10_col3, #T_b26e5_row10_col4, #T_b26e5_row10_col5, #T_b26e5_row10_col6 {\n",
       "  background: yellow;\n",
       "}\n",
       "</style>\n",
       "<table id=\"T_b26e5\">\n",
       "  <thead>\n",
       "    <tr>\n",
       "      <th class=\"blank level0\" >&nbsp;</th>\n",
       "      <th id=\"T_b26e5_level0_col0\" class=\"col_heading level0 col0\" >Accuracy</th>\n",
       "      <th id=\"T_b26e5_level0_col1\" class=\"col_heading level0 col1\" >AUC</th>\n",
       "      <th id=\"T_b26e5_level0_col2\" class=\"col_heading level0 col2\" >Recall</th>\n",
       "      <th id=\"T_b26e5_level0_col3\" class=\"col_heading level0 col3\" >Prec.</th>\n",
       "      <th id=\"T_b26e5_level0_col4\" class=\"col_heading level0 col4\" >F1</th>\n",
       "      <th id=\"T_b26e5_level0_col5\" class=\"col_heading level0 col5\" >Kappa</th>\n",
       "      <th id=\"T_b26e5_level0_col6\" class=\"col_heading level0 col6\" >MCC</th>\n",
       "    </tr>\n",
       "    <tr>\n",
       "      <th class=\"index_name level0\" >Fold</th>\n",
       "      <th class=\"blank col0\" >&nbsp;</th>\n",
       "      <th class=\"blank col1\" >&nbsp;</th>\n",
       "      <th class=\"blank col2\" >&nbsp;</th>\n",
       "      <th class=\"blank col3\" >&nbsp;</th>\n",
       "      <th class=\"blank col4\" >&nbsp;</th>\n",
       "      <th class=\"blank col5\" >&nbsp;</th>\n",
       "      <th class=\"blank col6\" >&nbsp;</th>\n",
       "    </tr>\n",
       "  </thead>\n",
       "  <tbody>\n",
       "    <tr>\n",
       "      <th id=\"T_b26e5_level0_row0\" class=\"row_heading level0 row0\" >0</th>\n",
       "      <td id=\"T_b26e5_row0_col0\" class=\"data row0 col0\" >0.8739</td>\n",
       "      <td id=\"T_b26e5_row0_col1\" class=\"data row0 col1\" >0.9277</td>\n",
       "      <td id=\"T_b26e5_row0_col2\" class=\"data row0 col2\" >0.9242</td>\n",
       "      <td id=\"T_b26e5_row0_col3\" class=\"data row0 col3\" >0.8592</td>\n",
       "      <td id=\"T_b26e5_row0_col4\" class=\"data row0 col4\" >0.8905</td>\n",
       "      <td id=\"T_b26e5_row0_col5\" class=\"data row0 col5\" >0.7425</td>\n",
       "      <td id=\"T_b26e5_row0_col6\" class=\"data row0 col6\" >0.7452</td>\n",
       "    </tr>\n",
       "    <tr>\n",
       "      <th id=\"T_b26e5_level0_row1\" class=\"row_heading level0 row1\" >1</th>\n",
       "      <td id=\"T_b26e5_row1_col0\" class=\"data row1 col0\" >0.9244</td>\n",
       "      <td id=\"T_b26e5_row1_col1\" class=\"data row1 col1\" >0.9788</td>\n",
       "      <td id=\"T_b26e5_row1_col2\" class=\"data row1 col2\" >0.9242</td>\n",
       "      <td id=\"T_b26e5_row1_col3\" class=\"data row1 col3\" >0.9385</td>\n",
       "      <td id=\"T_b26e5_row1_col4\" class=\"data row1 col4\" >0.9313</td>\n",
       "      <td id=\"T_b26e5_row1_col5\" class=\"data row1 col5\" >0.8472</td>\n",
       "      <td id=\"T_b26e5_row1_col6\" class=\"data row1 col6\" >0.8473</td>\n",
       "    </tr>\n",
       "    <tr>\n",
       "      <th id=\"T_b26e5_level0_row2\" class=\"row_heading level0 row2\" >2</th>\n",
       "      <td id=\"T_b26e5_row2_col0\" class=\"data row2 col0\" >0.9076</td>\n",
       "      <td id=\"T_b26e5_row2_col1\" class=\"data row2 col1\" >0.9531</td>\n",
       "      <td id=\"T_b26e5_row2_col2\" class=\"data row2 col2\" >0.9242</td>\n",
       "      <td id=\"T_b26e5_row2_col3\" class=\"data row2 col3\" >0.9104</td>\n",
       "      <td id=\"T_b26e5_row2_col4\" class=\"data row2 col4\" >0.9173</td>\n",
       "      <td id=\"T_b26e5_row2_col5\" class=\"data row2 col5\" >0.8125</td>\n",
       "      <td id=\"T_b26e5_row2_col6\" class=\"data row2 col6\" >0.8127</td>\n",
       "    </tr>\n",
       "    <tr>\n",
       "      <th id=\"T_b26e5_level0_row3\" class=\"row_heading level0 row3\" >3</th>\n",
       "      <td id=\"T_b26e5_row3_col0\" class=\"data row3 col0\" >0.9160</td>\n",
       "      <td id=\"T_b26e5_row3_col1\" class=\"data row3 col1\" >0.9520</td>\n",
       "      <td id=\"T_b26e5_row3_col2\" class=\"data row3 col2\" >0.8939</td>\n",
       "      <td id=\"T_b26e5_row3_col3\" class=\"data row3 col3\" >0.9516</td>\n",
       "      <td id=\"T_b26e5_row3_col4\" class=\"data row3 col4\" >0.9219</td>\n",
       "      <td id=\"T_b26e5_row3_col5\" class=\"data row3 col5\" >0.8312</td>\n",
       "      <td id=\"T_b26e5_row3_col6\" class=\"data row3 col6\" >0.8331</td>\n",
       "    </tr>\n",
       "    <tr>\n",
       "      <th id=\"T_b26e5_level0_row4\" class=\"row_heading level0 row4\" >4</th>\n",
       "      <td id=\"T_b26e5_row4_col0\" class=\"data row4 col0\" >0.9244</td>\n",
       "      <td id=\"T_b26e5_row4_col1\" class=\"data row4 col1\" >0.9577</td>\n",
       "      <td id=\"T_b26e5_row4_col2\" class=\"data row4 col2\" >0.9242</td>\n",
       "      <td id=\"T_b26e5_row4_col3\" class=\"data row4 col3\" >0.9385</td>\n",
       "      <td id=\"T_b26e5_row4_col4\" class=\"data row4 col4\" >0.9313</td>\n",
       "      <td id=\"T_b26e5_row4_col5\" class=\"data row4 col5\" >0.8472</td>\n",
       "      <td id=\"T_b26e5_row4_col6\" class=\"data row4 col6\" >0.8473</td>\n",
       "    </tr>\n",
       "    <tr>\n",
       "      <th id=\"T_b26e5_level0_row5\" class=\"row_heading level0 row5\" >5</th>\n",
       "      <td id=\"T_b26e5_row5_col0\" class=\"data row5 col0\" >0.8908</td>\n",
       "      <td id=\"T_b26e5_row5_col1\" class=\"data row5 col1\" >0.9593</td>\n",
       "      <td id=\"T_b26e5_row5_col2\" class=\"data row5 col2\" >0.9385</td>\n",
       "      <td id=\"T_b26e5_row5_col3\" class=\"data row5 col3\" >0.8714</td>\n",
       "      <td id=\"T_b26e5_row5_col4\" class=\"data row5 col4\" >0.9037</td>\n",
       "      <td id=\"T_b26e5_row5_col5\" class=\"data row5 col5\" >0.7779</td>\n",
       "      <td id=\"T_b26e5_row5_col6\" class=\"data row5 col6\" >0.7807</td>\n",
       "    </tr>\n",
       "    <tr>\n",
       "      <th id=\"T_b26e5_level0_row6\" class=\"row_heading level0 row6\" >6</th>\n",
       "      <td id=\"T_b26e5_row6_col0\" class=\"data row6 col0\" >0.8992</td>\n",
       "      <td id=\"T_b26e5_row6_col1\" class=\"data row6 col1\" >0.9182</td>\n",
       "      <td id=\"T_b26e5_row6_col2\" class=\"data row6 col2\" >0.9077</td>\n",
       "      <td id=\"T_b26e5_row6_col3\" class=\"data row6 col3\" >0.9077</td>\n",
       "      <td id=\"T_b26e5_row6_col4\" class=\"data row6 col4\" >0.9077</td>\n",
       "      <td id=\"T_b26e5_row6_col5\" class=\"data row6 col5\" >0.7966</td>\n",
       "      <td id=\"T_b26e5_row6_col6\" class=\"data row6 col6\" >0.7966</td>\n",
       "    </tr>\n",
       "    <tr>\n",
       "      <th id=\"T_b26e5_level0_row7\" class=\"row_heading level0 row7\" >7</th>\n",
       "      <td id=\"T_b26e5_row7_col0\" class=\"data row7 col0\" >0.8824</td>\n",
       "      <td id=\"T_b26e5_row7_col1\" class=\"data row7 col1\" >0.9231</td>\n",
       "      <td id=\"T_b26e5_row7_col2\" class=\"data row7 col2\" >0.8769</td>\n",
       "      <td id=\"T_b26e5_row7_col3\" class=\"data row7 col3\" >0.9048</td>\n",
       "      <td id=\"T_b26e5_row7_col4\" class=\"data row7 col4\" >0.8906</td>\n",
       "      <td id=\"T_b26e5_row7_col5\" class=\"data row7 col5\" >0.7634</td>\n",
       "      <td id=\"T_b26e5_row7_col6\" class=\"data row7 col6\" >0.7639</td>\n",
       "    </tr>\n",
       "    <tr>\n",
       "      <th id=\"T_b26e5_level0_row8\" class=\"row_heading level0 row8\" >8</th>\n",
       "      <td id=\"T_b26e5_row8_col0\" class=\"data row8 col0\" >0.9160</td>\n",
       "      <td id=\"T_b26e5_row8_col1\" class=\"data row8 col1\" >0.9553</td>\n",
       "      <td id=\"T_b26e5_row8_col2\" class=\"data row8 col2\" >0.9077</td>\n",
       "      <td id=\"T_b26e5_row8_col3\" class=\"data row8 col3\" >0.9365</td>\n",
       "      <td id=\"T_b26e5_row8_col4\" class=\"data row8 col4\" >0.9219</td>\n",
       "      <td id=\"T_b26e5_row8_col5\" class=\"data row8 col5\" >0.8310</td>\n",
       "      <td id=\"T_b26e5_row8_col6\" class=\"data row8 col6\" >0.8315</td>\n",
       "    </tr>\n",
       "    <tr>\n",
       "      <th id=\"T_b26e5_level0_row9\" class=\"row_heading level0 row9\" >9</th>\n",
       "      <td id=\"T_b26e5_row9_col0\" class=\"data row9 col0\" >0.8992</td>\n",
       "      <td id=\"T_b26e5_row9_col1\" class=\"data row9 col1\" >0.9447</td>\n",
       "      <td id=\"T_b26e5_row9_col2\" class=\"data row9 col2\" >0.9077</td>\n",
       "      <td id=\"T_b26e5_row9_col3\" class=\"data row9 col3\" >0.9077</td>\n",
       "      <td id=\"T_b26e5_row9_col4\" class=\"data row9 col4\" >0.9077</td>\n",
       "      <td id=\"T_b26e5_row9_col5\" class=\"data row9 col5\" >0.7966</td>\n",
       "      <td id=\"T_b26e5_row9_col6\" class=\"data row9 col6\" >0.7966</td>\n",
       "    </tr>\n",
       "    <tr>\n",
       "      <th id=\"T_b26e5_level0_row10\" class=\"row_heading level0 row10\" >Mean</th>\n",
       "      <td id=\"T_b26e5_row10_col0\" class=\"data row10 col0\" >0.9034</td>\n",
       "      <td id=\"T_b26e5_row10_col1\" class=\"data row10 col1\" >0.9470</td>\n",
       "      <td id=\"T_b26e5_row10_col2\" class=\"data row10 col2\" >0.9129</td>\n",
       "      <td id=\"T_b26e5_row10_col3\" class=\"data row10 col3\" >0.9126</td>\n",
       "      <td id=\"T_b26e5_row10_col4\" class=\"data row10 col4\" >0.9124</td>\n",
       "      <td id=\"T_b26e5_row10_col5\" class=\"data row10 col5\" >0.8046</td>\n",
       "      <td id=\"T_b26e5_row10_col6\" class=\"data row10 col6\" >0.8055</td>\n",
       "    </tr>\n",
       "    <tr>\n",
       "      <th id=\"T_b26e5_level0_row11\" class=\"row_heading level0 row11\" >Std</th>\n",
       "      <td id=\"T_b26e5_row11_col0\" class=\"data row11 col0\" >0.0165</td>\n",
       "      <td id=\"T_b26e5_row11_col1\" class=\"data row11 col1\" >0.0179</td>\n",
       "      <td id=\"T_b26e5_row11_col2\" class=\"data row11 col2\" >0.0170</td>\n",
       "      <td id=\"T_b26e5_row11_col3\" class=\"data row11 col3\" >0.0285</td>\n",
       "      <td id=\"T_b26e5_row11_col4\" class=\"data row11 col4\" >0.0141</td>\n",
       "      <td id=\"T_b26e5_row11_col5\" class=\"data row11 col5\" >0.0339</td>\n",
       "      <td id=\"T_b26e5_row11_col6\" class=\"data row11 col6\" >0.0334</td>\n",
       "    </tr>\n",
       "  </tbody>\n",
       "</table>\n"
      ],
      "text/plain": [
       "<pandas.io.formats.style.Styler at 0x22b93d0cdf0>"
      ]
     },
     "metadata": {},
     "output_type": "display_data"
    },
    {
     "data": {
      "text/html": [],
      "text/plain": [
       "<IPython.core.display.HTML object>"
      ]
     },
     "metadata": {},
     "output_type": "display_data"
    }
   ],
   "source": [
    "model = create_model(best_model)"
   ]
  },
  {
   "cell_type": "markdown",
   "metadata": {},
   "source": [
    "# Testando o modelo"
   ]
  },
  {
   "cell_type": "markdown",
   "metadata": {},
   "source": [
    "Após a seleção do melhor modelo vamos aos testes"
   ]
  },
  {
   "cell_type": "code",
   "execution_count": 46,
   "metadata": {},
   "outputs": [
    {
     "data": {
      "text/html": [
       "<style type=\"text/css\">\n",
       "</style>\n",
       "<table id=\"T_93343\">\n",
       "  <thead>\n",
       "    <tr>\n",
       "      <th class=\"blank level0\" >&nbsp;</th>\n",
       "      <th id=\"T_93343_level0_col0\" class=\"col_heading level0 col0\" >Model</th>\n",
       "      <th id=\"T_93343_level0_col1\" class=\"col_heading level0 col1\" >Accuracy</th>\n",
       "      <th id=\"T_93343_level0_col2\" class=\"col_heading level0 col2\" >AUC</th>\n",
       "      <th id=\"T_93343_level0_col3\" class=\"col_heading level0 col3\" >Recall</th>\n",
       "      <th id=\"T_93343_level0_col4\" class=\"col_heading level0 col4\" >Prec.</th>\n",
       "      <th id=\"T_93343_level0_col5\" class=\"col_heading level0 col5\" >F1</th>\n",
       "      <th id=\"T_93343_level0_col6\" class=\"col_heading level0 col6\" >Kappa</th>\n",
       "      <th id=\"T_93343_level0_col7\" class=\"col_heading level0 col7\" >MCC</th>\n",
       "    </tr>\n",
       "  </thead>\n",
       "  <tbody>\n",
       "    <tr>\n",
       "      <th id=\"T_93343_level0_row0\" class=\"row_heading level0 row0\" >0</th>\n",
       "      <td id=\"T_93343_row0_col0\" class=\"data row0 col0\" >Gradient Boosting Classifier</td>\n",
       "      <td id=\"T_93343_row0_col1\" class=\"data row0 col1\" >0.9039</td>\n",
       "      <td id=\"T_93343_row0_col2\" class=\"data row0 col2\" >0.9412</td>\n",
       "      <td id=\"T_93343_row0_col3\" class=\"data row0 col3\" >0.9004</td>\n",
       "      <td id=\"T_93343_row0_col4\" class=\"data row0 col4\" >0.9234</td>\n",
       "      <td id=\"T_93343_row0_col5\" class=\"data row0 col5\" >0.9117</td>\n",
       "      <td id=\"T_93343_row0_col6\" class=\"data row0 col6\" >0.8064</td>\n",
       "      <td id=\"T_93343_row0_col7\" class=\"data row0 col7\" >0.8067</td>\n",
       "    </tr>\n",
       "  </tbody>\n",
       "</table>\n"
      ],
      "text/plain": [
       "<pandas.io.formats.style.Styler at 0x22b8ecd7550>"
      ]
     },
     "metadata": {},
     "output_type": "display_data"
    },
    {
     "data": {
      "text/html": [
       "<div>\n",
       "<style scoped>\n",
       "    .dataframe tbody tr th:only-of-type {\n",
       "        vertical-align: middle;\n",
       "    }\n",
       "\n",
       "    .dataframe tbody tr th {\n",
       "        vertical-align: top;\n",
       "    }\n",
       "\n",
       "    .dataframe thead th {\n",
       "        text-align: right;\n",
       "    }\n",
       "</style>\n",
       "<table border=\"1\" class=\"dataframe\">\n",
       "  <thead>\n",
       "    <tr style=\"text-align: right;\">\n",
       "      <th></th>\n",
       "      <th>Idade</th>\n",
       "      <th>Gênero</th>\n",
       "      <th>IMC</th>\n",
       "      <th>Consumo de álcool</th>\n",
       "      <th>Tabagismo</th>\n",
       "      <th>Risco genético</th>\n",
       "      <th>Atividade física</th>\n",
       "      <th>Diabetes</th>\n",
       "      <th>Hipertensão</th>\n",
       "      <th>Teste de função hepática</th>\n",
       "      <th>Diagnóstico</th>\n",
       "      <th>prediction_label</th>\n",
       "      <th>prediction_score_0</th>\n",
       "      <th>prediction_score_1</th>\n",
       "    </tr>\n",
       "  </thead>\n",
       "  <tbody>\n",
       "    <tr>\n",
       "      <th>995</th>\n",
       "      <td>22</td>\n",
       "      <td>1</td>\n",
       "      <td>39.541332</td>\n",
       "      <td>3.895470</td>\n",
       "      <td>0</td>\n",
       "      <td>0</td>\n",
       "      <td>4.509073</td>\n",
       "      <td>0</td>\n",
       "      <td>0</td>\n",
       "      <td>71.249725</td>\n",
       "      <td>0</td>\n",
       "      <td>0</td>\n",
       "      <td>0.6696</td>\n",
       "      <td>0.3304</td>\n",
       "    </tr>\n",
       "    <tr>\n",
       "      <th>560</th>\n",
       "      <td>54</td>\n",
       "      <td>0</td>\n",
       "      <td>31.885506</td>\n",
       "      <td>16.057024</td>\n",
       "      <td>0</td>\n",
       "      <td>0</td>\n",
       "      <td>2.389047</td>\n",
       "      <td>0</td>\n",
       "      <td>0</td>\n",
       "      <td>90.500252</td>\n",
       "      <td>1</td>\n",
       "      <td>1</td>\n",
       "      <td>0.1020</td>\n",
       "      <td>0.8980</td>\n",
       "    </tr>\n",
       "    <tr>\n",
       "      <th>100</th>\n",
       "      <td>67</td>\n",
       "      <td>1</td>\n",
       "      <td>36.981716</td>\n",
       "      <td>15.611120</td>\n",
       "      <td>0</td>\n",
       "      <td>0</td>\n",
       "      <td>4.995492</td>\n",
       "      <td>0</td>\n",
       "      <td>1</td>\n",
       "      <td>81.079926</td>\n",
       "      <td>1</td>\n",
       "      <td>1</td>\n",
       "      <td>0.0147</td>\n",
       "      <td>0.9853</td>\n",
       "    </tr>\n",
       "    <tr>\n",
       "      <th>571</th>\n",
       "      <td>36</td>\n",
       "      <td>0</td>\n",
       "      <td>22.418192</td>\n",
       "      <td>2.822152</td>\n",
       "      <td>0</td>\n",
       "      <td>0</td>\n",
       "      <td>9.609041</td>\n",
       "      <td>0</td>\n",
       "      <td>0</td>\n",
       "      <td>71.608253</td>\n",
       "      <td>0</td>\n",
       "      <td>0</td>\n",
       "      <td>0.9803</td>\n",
       "      <td>0.0197</td>\n",
       "    </tr>\n",
       "    <tr>\n",
       "      <th>686</th>\n",
       "      <td>50</td>\n",
       "      <td>0</td>\n",
       "      <td>39.502724</td>\n",
       "      <td>16.745260</td>\n",
       "      <td>0</td>\n",
       "      <td>1</td>\n",
       "      <td>1.264803</td>\n",
       "      <td>0</td>\n",
       "      <td>0</td>\n",
       "      <td>59.380512</td>\n",
       "      <td>1</td>\n",
       "      <td>1</td>\n",
       "      <td>0.0946</td>\n",
       "      <td>0.9054</td>\n",
       "    </tr>\n",
       "    <tr>\n",
       "      <th>...</th>\n",
       "      <td>...</td>\n",
       "      <td>...</td>\n",
       "      <td>...</td>\n",
       "      <td>...</td>\n",
       "      <td>...</td>\n",
       "      <td>...</td>\n",
       "      <td>...</td>\n",
       "      <td>...</td>\n",
       "      <td>...</td>\n",
       "      <td>...</td>\n",
       "      <td>...</td>\n",
       "      <td>...</td>\n",
       "      <td>...</td>\n",
       "      <td>...</td>\n",
       "    </tr>\n",
       "    <tr>\n",
       "      <th>1085</th>\n",
       "      <td>39</td>\n",
       "      <td>1</td>\n",
       "      <td>27.818007</td>\n",
       "      <td>16.630816</td>\n",
       "      <td>0</td>\n",
       "      <td>2</td>\n",
       "      <td>6.030038</td>\n",
       "      <td>0</td>\n",
       "      <td>0</td>\n",
       "      <td>35.051868</td>\n",
       "      <td>1</td>\n",
       "      <td>1</td>\n",
       "      <td>0.3584</td>\n",
       "      <td>0.6416</td>\n",
       "    </tr>\n",
       "    <tr>\n",
       "      <th>1072</th>\n",
       "      <td>74</td>\n",
       "      <td>1</td>\n",
       "      <td>19.447203</td>\n",
       "      <td>16.167898</td>\n",
       "      <td>0</td>\n",
       "      <td>0</td>\n",
       "      <td>5.626410</td>\n",
       "      <td>0</td>\n",
       "      <td>0</td>\n",
       "      <td>41.947792</td>\n",
       "      <td>0</td>\n",
       "      <td>0</td>\n",
       "      <td>0.6175</td>\n",
       "      <td>0.3825</td>\n",
       "    </tr>\n",
       "    <tr>\n",
       "      <th>352</th>\n",
       "      <td>67</td>\n",
       "      <td>0</td>\n",
       "      <td>19.150858</td>\n",
       "      <td>0.635570</td>\n",
       "      <td>1</td>\n",
       "      <td>0</td>\n",
       "      <td>5.314859</td>\n",
       "      <td>1</td>\n",
       "      <td>1</td>\n",
       "      <td>25.951654</td>\n",
       "      <td>0</td>\n",
       "      <td>0</td>\n",
       "      <td>0.8021</td>\n",
       "      <td>0.1979</td>\n",
       "    </tr>\n",
       "    <tr>\n",
       "      <th>1697</th>\n",
       "      <td>38</td>\n",
       "      <td>0</td>\n",
       "      <td>38.730019</td>\n",
       "      <td>6.324303</td>\n",
       "      <td>1</td>\n",
       "      <td>2</td>\n",
       "      <td>9.314222</td>\n",
       "      <td>0</td>\n",
       "      <td>1</td>\n",
       "      <td>56.053371</td>\n",
       "      <td>1</td>\n",
       "      <td>1</td>\n",
       "      <td>0.0546</td>\n",
       "      <td>0.9454</td>\n",
       "    </tr>\n",
       "    <tr>\n",
       "      <th>31</th>\n",
       "      <td>31</td>\n",
       "      <td>1</td>\n",
       "      <td>27.386303</td>\n",
       "      <td>1.571157</td>\n",
       "      <td>0</td>\n",
       "      <td>1</td>\n",
       "      <td>0.186466</td>\n",
       "      <td>0</td>\n",
       "      <td>0</td>\n",
       "      <td>44.101070</td>\n",
       "      <td>0</td>\n",
       "      <td>0</td>\n",
       "      <td>0.8316</td>\n",
       "      <td>0.1684</td>\n",
       "    </tr>\n",
       "  </tbody>\n",
       "</table>\n",
       "<p>510 rows × 14 columns</p>\n",
       "</div>"
      ],
      "text/plain": [
       "      Idade  Gênero        IMC  Consumo de álcool  Tabagismo  Risco genético  \\\n",
       "995      22       1  39.541332           3.895470          0               0   \n",
       "560      54       0  31.885506          16.057024          0               0   \n",
       "100      67       1  36.981716          15.611120          0               0   \n",
       "571      36       0  22.418192           2.822152          0               0   \n",
       "686      50       0  39.502724          16.745260          0               1   \n",
       "...     ...     ...        ...                ...        ...             ...   \n",
       "1085     39       1  27.818007          16.630816          0               2   \n",
       "1072     74       1  19.447203          16.167898          0               0   \n",
       "352      67       0  19.150858           0.635570          1               0   \n",
       "1697     38       0  38.730019           6.324303          1               2   \n",
       "31       31       1  27.386303           1.571157          0               1   \n",
       "\n",
       "      Atividade física  Diabetes  Hipertensão  Teste de função hepática  \\\n",
       "995           4.509073         0            0                 71.249725   \n",
       "560           2.389047         0            0                 90.500252   \n",
       "100           4.995492         0            1                 81.079926   \n",
       "571           9.609041         0            0                 71.608253   \n",
       "686           1.264803         0            0                 59.380512   \n",
       "...                ...       ...          ...                       ...   \n",
       "1085          6.030038         0            0                 35.051868   \n",
       "1072          5.626410         0            0                 41.947792   \n",
       "352           5.314859         1            1                 25.951654   \n",
       "1697          9.314222         0            1                 56.053371   \n",
       "31            0.186466         0            0                 44.101070   \n",
       "\n",
       "      Diagnóstico  prediction_label  prediction_score_0  prediction_score_1  \n",
       "995             0                 0              0.6696              0.3304  \n",
       "560             1                 1              0.1020              0.8980  \n",
       "100             1                 1              0.0147              0.9853  \n",
       "571             0                 0              0.9803              0.0197  \n",
       "686             1                 1              0.0946              0.9054  \n",
       "...           ...               ...                 ...                 ...  \n",
       "1085            1                 1              0.3584              0.6416  \n",
       "1072            0                 0              0.6175              0.3825  \n",
       "352             0                 0              0.8021              0.1979  \n",
       "1697            1                 1              0.0546              0.9454  \n",
       "31              0                 0              0.8316              0.1684  \n",
       "\n",
       "[510 rows x 14 columns]"
      ]
     },
     "execution_count": 46,
     "metadata": {},
     "output_type": "execute_result"
    }
   ],
   "source": [
    "predict_model(best_model, raw_score= True)"
   ]
  },
  {
   "cell_type": "markdown",
   "metadata": {},
   "source": [
    "Aplicando o 'prdict_model' observamos que o modelo entrega boas métricas também para a base de teste. Com o parâmetro 'raw_score' temos uma informação muito interessante que são os scores de predição do modelo tanto para se a variável alvo assumir o valor 0 como assumir o valor 1."
   ]
  },
  {
   "cell_type": "markdown",
   "metadata": {},
   "source": [
    "Para avançarmos mais no entendimento do modelo podemos aplicar o comando 'evaluate_model'. Esse comando retorna uma forma dinâmica de apresentar as como o modelo foi construído e suas métricas"
   ]
  },
  {
   "cell_type": "code",
   "execution_count": 47,
   "metadata": {},
   "outputs": [
    {
     "data": {
      "application/vnd.jupyter.widget-view+json": {
       "model_id": "309e08745ee346a6a5cecb3627583ee3",
       "version_major": 2,
       "version_minor": 0
      },
      "text/plain": [
       "interactive(children=(ToggleButtons(description='Plot Type:', icons=('',), options=(('Pipeline Plot', 'pipelin…"
      ]
     },
     "metadata": {},
     "output_type": "display_data"
    }
   ],
   "source": [
    "evaluate_model(best_model)"
   ]
  },
  {
   "cell_type": "markdown",
   "metadata": {},
   "source": [
    "Dentre as principais informações se destacam os seguintes:\n",
    " - Pipeline Plot\n",
    " - Curva AUC\n",
    " - Learning Curve\n",
    " - Feature Importance\n",
    "\n",
    "Claro que essa obervação é puramente pessoal, cada aspecto de entendimento do modelo parte da necessidade do negócio e a configuração do modelo.   "
   ]
  },
  {
   "cell_type": "markdown",
   "metadata": {},
   "source": [
    "# Finalização do Projeto"
   ]
  },
  {
   "cell_type": "markdown",
   "metadata": {},
   "source": [
    "Depois de todas essas etapas para finalizar precisamos preparar o modelo para que o hospital possa utilizá-lo em seus diagnósticos"
   ]
  },
  {
   "cell_type": "code",
   "execution_count": 50,
   "metadata": {},
   "outputs": [],
   "source": [
    "final_best = finalize_model(best_model)"
   ]
  },
  {
   "cell_type": "code",
   "execution_count": 51,
   "metadata": {},
   "outputs": [
    {
     "name": "stdout",
     "output_type": "stream",
     "text": [
      "Transformation Pipeline and Model Successfully Saved\n"
     ]
    },
    {
     "data": {
      "text/plain": [
       "(Pipeline(memory=Memory(location=None),\n",
       "          steps=[('numerical_imputer',\n",
       "                  TransformerWrapper(exclude=None,\n",
       "                                     include=['Idade', 'Gênero', 'IMC',\n",
       "                                              'Consumo de álcool', 'Tabagismo',\n",
       "                                              'Risco genético',\n",
       "                                              'Atividade física', 'Diabetes',\n",
       "                                              'Hipertensão',\n",
       "                                              'Teste de função hepática'],\n",
       "                                     transformer=SimpleImputer(add_indicator=False,\n",
       "                                                               copy=True,\n",
       "                                                               fill_value=None,\n",
       "                                                               keep_empty_features=False,\n",
       "                                                               missing_...\n",
       "                                             criterion='friedman_mse', init=None,\n",
       "                                             learning_rate=0.1, loss='log_loss',\n",
       "                                             max_depth=3, max_features=None,\n",
       "                                             max_leaf_nodes=None,\n",
       "                                             min_impurity_decrease=0.0,\n",
       "                                             min_samples_leaf=1,\n",
       "                                             min_samples_split=2,\n",
       "                                             min_weight_fraction_leaf=0.0,\n",
       "                                             n_estimators=100,\n",
       "                                             n_iter_no_change=None,\n",
       "                                             random_state=8104, subsample=1.0,\n",
       "                                             tol=0.0001, validation_fraction=0.1,\n",
       "                                             verbose=0, warm_start=False))],\n",
       "          verbose=False),\n",
       " 'Diagnóstico.pkl')"
      ]
     },
     "execution_count": 51,
     "metadata": {},
     "output_type": "execute_result"
    }
   ],
   "source": [
    "save_model(final_best, 'Diagnóstico')"
   ]
  },
  {
   "cell_type": "markdown",
   "metadata": {},
   "source": [
    "O comando 'finalize_model' vai fazer treinaer o modelo com toda a base de dados e por fim o 'save_model' vai salvar o modelo para que seja realizada o processo de deploy desse projeto"
   ]
  },
  {
   "cell_type": "markdown",
   "metadata": {},
   "source": [
    "Que tal agora passarmos alguns dados para testar o funcionamento do modelo?"
   ]
  },
  {
   "cell_type": "code",
   "execution_count": 52,
   "metadata": {},
   "outputs": [
    {
     "name": "stdout",
     "output_type": "stream",
     "text": [
      "Transformation Pipeline and Model Successfully Loaded\n"
     ]
    }
   ],
   "source": [
    "loaded_model = load_model('Diagnóstico')"
   ]
  },
  {
   "cell_type": "code",
   "execution_count": 99,
   "metadata": {},
   "outputs": [],
   "source": [
    "novos_dados = pd.DataFrame({\n",
    "    'Idade': [27, 35],\n",
    "    'Gênero': [1, 0],\n",
    "    'IMC': [31, 28],\n",
    "    'Consumo de álcool': [10, 20],\n",
    "    'Tabagismo': [0, 1],\n",
    "    'Risco genético': [1, 1],\n",
    "    'Atividade física': [0, 1],\n",
    "    'Diabetes': [0, 0],\n",
    "    'Hipertensão': [1, 1],\n",
    "    'Teste de função hepática': [42.734240, 68.58555],\n",
    "})"
   ]
  },
  {
   "cell_type": "code",
   "execution_count": 100,
   "metadata": {},
   "outputs": [
    {
     "data": {
      "text/html": [],
      "text/plain": [
       "<IPython.core.display.HTML object>"
      ]
     },
     "metadata": {},
     "output_type": "display_data"
    },
    {
     "data": {
      "text/html": [
       "<div>\n",
       "<style scoped>\n",
       "    .dataframe tbody tr th:only-of-type {\n",
       "        vertical-align: middle;\n",
       "    }\n",
       "\n",
       "    .dataframe tbody tr th {\n",
       "        vertical-align: top;\n",
       "    }\n",
       "\n",
       "    .dataframe thead th {\n",
       "        text-align: right;\n",
       "    }\n",
       "</style>\n",
       "<table border=\"1\" class=\"dataframe\">\n",
       "  <thead>\n",
       "    <tr style=\"text-align: right;\">\n",
       "      <th></th>\n",
       "      <th>Idade</th>\n",
       "      <th>Gênero</th>\n",
       "      <th>IMC</th>\n",
       "      <th>Consumo de álcool</th>\n",
       "      <th>Tabagismo</th>\n",
       "      <th>Risco genético</th>\n",
       "      <th>Atividade física</th>\n",
       "      <th>Diabetes</th>\n",
       "      <th>Hipertensão</th>\n",
       "      <th>Teste de função hepática</th>\n",
       "      <th>prediction_label</th>\n",
       "      <th>prediction_score_0</th>\n",
       "      <th>prediction_score_1</th>\n",
       "    </tr>\n",
       "  </thead>\n",
       "  <tbody>\n",
       "    <tr>\n",
       "      <th>0</th>\n",
       "      <td>27</td>\n",
       "      <td>1</td>\n",
       "      <td>31</td>\n",
       "      <td>10</td>\n",
       "      <td>0</td>\n",
       "      <td>1</td>\n",
       "      <td>0</td>\n",
       "      <td>0</td>\n",
       "      <td>1</td>\n",
       "      <td>42.734241</td>\n",
       "      <td>0</td>\n",
       "      <td>0.6539</td>\n",
       "      <td>0.3461</td>\n",
       "    </tr>\n",
       "    <tr>\n",
       "      <th>1</th>\n",
       "      <td>35</td>\n",
       "      <td>0</td>\n",
       "      <td>28</td>\n",
       "      <td>20</td>\n",
       "      <td>1</td>\n",
       "      <td>1</td>\n",
       "      <td>1</td>\n",
       "      <td>0</td>\n",
       "      <td>1</td>\n",
       "      <td>68.585548</td>\n",
       "      <td>1</td>\n",
       "      <td>0.0091</td>\n",
       "      <td>0.9909</td>\n",
       "    </tr>\n",
       "  </tbody>\n",
       "</table>\n",
       "</div>"
      ],
      "text/plain": [
       "   Idade  Gênero  IMC  Consumo de álcool  Tabagismo  Risco genético  \\\n",
       "0     27       1   31                 10          0               1   \n",
       "1     35       0   28                 20          1               1   \n",
       "\n",
       "   Atividade física  Diabetes  Hipertensão  Teste de função hepática  \\\n",
       "0                 0         0            1                 42.734241   \n",
       "1                 1         0            1                 68.585548   \n",
       "\n",
       "   prediction_label  prediction_score_0  prediction_score_1  \n",
       "0                 0              0.6539              0.3461  \n",
       "1                 1              0.0091              0.9909  "
      ]
     },
     "execution_count": 100,
     "metadata": {},
     "output_type": "execute_result"
    }
   ],
   "source": [
    "predict_model(loaded_model, raw_score= True, data = novos_dados)"
   ]
  },
  {
   "cell_type": "markdown",
   "metadata": {},
   "source": [
    "Teste realizado com sucesso!"
   ]
  },
  {
   "cell_type": "markdown",
   "metadata": {},
   "source": [
    "# Considerações Finais"
   ]
  },
  {
   "cell_type": "markdown",
   "metadata": {},
   "source": [
    "Conforme mensionado anteriormente esse post tem o objetivo de apresentar a biblioteca PyCaret e aplicá-la a um projeto de machine learning de previsão de doença hepática. \n",
    "\n",
    "A biblioteca PyCaret cumpre seu propósito estabelecido, proporcionando uma grande ajuda ao cientista de dados na construção de projetos de machine learning. É notável a rapidez com que conseguimos alcançar os melhores resultados, tornando o processo mais simples e eficiente."
   ]
  },
  {
   "cell_type": "markdown",
   "metadata": {},
   "source": [
    "Entretanto, é importante destacar que, para utilizar o PyCaret de forma eficaz, é necessário um entendimento profundo da biblioteca. O uso dos parâmetros padrão pode levar a uma certa \"cegueira\" do cientista de dados, que pode não compreender totalmente o que ocorre nos bastidores. Etapas como tratamento de valores faltantes, tratamento de variáveis categóricas, balanceamento da base de dados, normalização e padronização dos dados são todas fundamentais e podem ser realizadas pelo PyCaret. Esses processos impactam significativamente o desempenho do modelo e devem ser bem compreendidos e ajustados conforme necessário."
   ]
  },
  {
   "cell_type": "markdown",
   "metadata": {},
   "source": [
    "Outro fator importante é a vasta quantidade de ferramentas disponíveis nesta biblioteca. Podemos ajustar os modelos com o comando tune_model e trabalhar com diferentes tipos de problemas, como regressão e modelos não supervisionados. Além disso, é possível integrar com a biblioteca SHAP para melhorar o processo de análise interpretativa. O PyCaret também facilita o processo de deployment, permitindo a implementação de modelos tanto localmente quanto em provedores de nuvem como AWS, GCP e Azure."
   ]
  },
  {
   "cell_type": "markdown",
   "metadata": {},
   "source": [
    "Enfim, uma ótima opção para um cientista de dados"
   ]
  }
 ],
 "metadata": {
  "kernelspec": {
   "display_name": "Python 3 (ipykernel)",
   "language": "python",
   "name": "python3"
  },
  "language_info": {
   "codemirror_mode": {
    "name": "ipython",
    "version": 3
   },
   "file_extension": ".py",
   "mimetype": "text/x-python",
   "name": "python",
   "nbconvert_exporter": "python",
   "pygments_lexer": "ipython3",
   "version": "3.10.14"
  }
 },
 "nbformat": 4,
 "nbformat_minor": 4
}
