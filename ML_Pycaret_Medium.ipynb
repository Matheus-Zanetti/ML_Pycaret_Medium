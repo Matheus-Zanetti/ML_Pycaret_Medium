{
 "cells": [
  {
   "cell_type": "markdown",
   "metadata": {},
   "source": [
    "# Previsão de Doença Hepática: Simplificando a Aplicação de Machine Learning com PyCaret"
   ]
  },
  {
   "cell_type": "markdown",
   "metadata": {},
   "source": [
    "A complexidade de um projeto de machine learning vai muito além da simples implementação de um modelo; diversos aspectos são considerados para alcançar resultados eficazes. O processo é exaustivo, envolvendo desde a pré-tratamento das variáveis e o balanceamento de classes até a escolha do modelo e a otimização de seus parâmetros. Cada uma dessas etapas consome tempo e exige foco do cientista de dados para garantir a implementação de um modelo eficaz."
   ]
  },
  {
   "cell_type": "markdown",
   "metadata": {},
   "source": [
    "Para resolver esses desafios, surgiu o PyCaret. O PyCaret é uma biblioteca de machine learning em Python, de código aberto e com abordagem low-code. Esta biblioteca simplifica os fluxos de trabalho em projetos de machine learning, acelerando o ciclo de experimentação de modelos e aumentando a produtividade do cientista de dados."
   ]
  },
  {
   "cell_type": "markdown",
   "metadata": {},
   "source": [
    "Para exemplificar os benefícios de se usar o PyCaret vou utilizar um projeto da Kaggle de previsão de doenças hepáticas, segue o link da base de dados no site da Kaggle e vamos ao projeto."
   ]
  },
  {
   "cell_type": "markdown",
   "metadata": {},
   "source": [
    "Lembrando que o objetivo desse post é apresentar o PyCaret e suas principais ferramentas, não vamos se atentar aos problemas da base de dados"
   ]
  },
  {
   "cell_type": "markdown",
   "metadata": {},
   "source": [
    "## Etapas do Projeto\n",
    "\n",
    "- Entendimento do Problema\n",
    "- Importação das Dependências e Carregamento do Dados\n",
    "- Breve entendimento sobre a base de dados\n",
    "- Treinamento e Avaliação do Modelo\n",
    "- Testando o modelo\n",
    "- Finalização do Projeto\n"
   ]
  },
  {
   "cell_type": "markdown",
   "metadata": {},
   "source": [
    "## Entendimento do problema"
   ]
  },
  {
   "cell_type": "markdown",
   "metadata": {},
   "source": [
    "Um hospital coletou registros de exames de 1.700 pacientes com o objetivo de diagnosticar doenças hepáticas.\n",
    "\n",
    "Nosso objetivo é desenvolver um modelo capaz de prever, de forma eficaz, quais pacientes possuem problemas hepáticos e identificar as variáveis que têm maior impacto nesses diagnósticos."
   ]
  },
  {
   "cell_type": "markdown",
   "metadata": {},
   "source": [
    "## Importação das Dependencias e carregamento dos dados"
   ]
  },
  {
   "cell_type": "code",
   "execution_count": 1,
   "metadata": {},
   "outputs": [],
   "source": [
    "import pandas as pd\n",
    "from pycaret import classification\n",
    "from pycaret.classification import *\n",
    "\n",
    "df = pd.read_csv('archive\\Liver_disease_data.csv')"
   ]
  },
  {
   "cell_type": "markdown",
   "metadata": {},
   "source": [
    "Como nosso problema é de classificação vamos importar apenas o módulo classification do pycaret"
   ]
  },
  {
   "cell_type": "markdown",
   "metadata": {},
   "source": [
    "## Breve entendimento sobre a base de dados"
   ]
  },
  {
   "cell_type": "code",
   "execution_count": 2,
   "metadata": {},
   "outputs": [
    {
     "data": {
      "text/html": [
       "<div>\n",
       "<style scoped>\n",
       "    .dataframe tbody tr th:only-of-type {\n",
       "        vertical-align: middle;\n",
       "    }\n",
       "\n",
       "    .dataframe tbody tr th {\n",
       "        vertical-align: top;\n",
       "    }\n",
       "\n",
       "    .dataframe thead th {\n",
       "        text-align: right;\n",
       "    }\n",
       "</style>\n",
       "<table border=\"1\" class=\"dataframe\">\n",
       "  <thead>\n",
       "    <tr style=\"text-align: right;\">\n",
       "      <th></th>\n",
       "      <th>Age</th>\n",
       "      <th>Gender</th>\n",
       "      <th>BMI</th>\n",
       "      <th>AlcoholConsumption</th>\n",
       "      <th>Smoking</th>\n",
       "      <th>GeneticRisk</th>\n",
       "      <th>PhysicalActivity</th>\n",
       "      <th>Diabetes</th>\n",
       "      <th>Hypertension</th>\n",
       "      <th>LiverFunctionTest</th>\n",
       "      <th>Diagnosis</th>\n",
       "    </tr>\n",
       "  </thead>\n",
       "  <tbody>\n",
       "    <tr>\n",
       "      <th>0</th>\n",
       "      <td>58</td>\n",
       "      <td>0</td>\n",
       "      <td>35.857584</td>\n",
       "      <td>17.272828</td>\n",
       "      <td>0</td>\n",
       "      <td>1</td>\n",
       "      <td>0.658940</td>\n",
       "      <td>0</td>\n",
       "      <td>0</td>\n",
       "      <td>42.734240</td>\n",
       "      <td>1</td>\n",
       "    </tr>\n",
       "    <tr>\n",
       "      <th>1</th>\n",
       "      <td>71</td>\n",
       "      <td>1</td>\n",
       "      <td>30.732470</td>\n",
       "      <td>2.201266</td>\n",
       "      <td>0</td>\n",
       "      <td>1</td>\n",
       "      <td>1.670557</td>\n",
       "      <td>1</td>\n",
       "      <td>0</td>\n",
       "      <td>67.309822</td>\n",
       "      <td>1</td>\n",
       "    </tr>\n",
       "    <tr>\n",
       "      <th>2</th>\n",
       "      <td>48</td>\n",
       "      <td>0</td>\n",
       "      <td>19.971407</td>\n",
       "      <td>18.500944</td>\n",
       "      <td>0</td>\n",
       "      <td>0</td>\n",
       "      <td>9.928308</td>\n",
       "      <td>0</td>\n",
       "      <td>0</td>\n",
       "      <td>63.738956</td>\n",
       "      <td>0</td>\n",
       "    </tr>\n",
       "    <tr>\n",
       "      <th>3</th>\n",
       "      <td>34</td>\n",
       "      <td>1</td>\n",
       "      <td>16.615417</td>\n",
       "      <td>12.632870</td>\n",
       "      <td>0</td>\n",
       "      <td>0</td>\n",
       "      <td>5.630129</td>\n",
       "      <td>0</td>\n",
       "      <td>0</td>\n",
       "      <td>64.555873</td>\n",
       "      <td>1</td>\n",
       "    </tr>\n",
       "    <tr>\n",
       "      <th>4</th>\n",
       "      <td>62</td>\n",
       "      <td>1</td>\n",
       "      <td>16.065830</td>\n",
       "      <td>1.087815</td>\n",
       "      <td>0</td>\n",
       "      <td>1</td>\n",
       "      <td>3.566218</td>\n",
       "      <td>1</td>\n",
       "      <td>0</td>\n",
       "      <td>77.868689</td>\n",
       "      <td>1</td>\n",
       "    </tr>\n",
       "  </tbody>\n",
       "</table>\n",
       "</div>"
      ],
      "text/plain": [
       "   Age  Gender        BMI  AlcoholConsumption  Smoking  GeneticRisk  \\\n",
       "0   58       0  35.857584           17.272828        0            1   \n",
       "1   71       1  30.732470            2.201266        0            1   \n",
       "2   48       0  19.971407           18.500944        0            0   \n",
       "3   34       1  16.615417           12.632870        0            0   \n",
       "4   62       1  16.065830            1.087815        0            1   \n",
       "\n",
       "   PhysicalActivity  Diabetes  Hypertension  LiverFunctionTest  Diagnosis  \n",
       "0          0.658940         0             0          42.734240          1  \n",
       "1          1.670557         1             0          67.309822          1  \n",
       "2          9.928308         0             0          63.738956          0  \n",
       "3          5.630129         0             0          64.555873          1  \n",
       "4          3.566218         1             0          77.868689          1  "
      ]
     },
     "execution_count": 2,
     "metadata": {},
     "output_type": "execute_result"
    }
   ],
   "source": [
    "df.head()"
   ]
  },
  {
   "cell_type": "code",
   "execution_count": 3,
   "metadata": {},
   "outputs": [],
   "source": [
    "#Para que não ocorra nenhum erro de interpretação vou fazer uma tradução das colunas para o pt-br\n",
    "df.columns = ['Idade', 'Gênero', 'IMC', 'Consumo de álcool', 'Tabagismo', 'Risco genético', 'Atividade física',\n",
    "              'Diabetes', 'Hipertensão', 'Teste de função hepática', 'Diagnóstico']"
   ]
  },
  {
   "cell_type": "code",
   "execution_count": 4,
   "metadata": {},
   "outputs": [
    {
     "name": "stdout",
     "output_type": "stream",
     "text": [
      "<class 'pandas.core.frame.DataFrame'>\n",
      "RangeIndex: 1700 entries, 0 to 1699\n",
      "Data columns (total 11 columns):\n",
      " #   Column                    Non-Null Count  Dtype  \n",
      "---  ------                    --------------  -----  \n",
      " 0   Idade                     1700 non-null   int64  \n",
      " 1   Gênero                    1700 non-null   int64  \n",
      " 2   IMC                       1700 non-null   float64\n",
      " 3   Consumo de álcool         1700 non-null   float64\n",
      " 4   Tabagismo                 1700 non-null   int64  \n",
      " 5   Risco genético            1700 non-null   int64  \n",
      " 6   Atividade física          1700 non-null   float64\n",
      " 7   Diabetes                  1700 non-null   int64  \n",
      " 8   Hipertensão               1700 non-null   int64  \n",
      " 9   Teste de função hepática  1700 non-null   float64\n",
      " 10  Diagnóstico               1700 non-null   int64  \n",
      "dtypes: float64(4), int64(7)\n",
      "memory usage: 146.2 KB\n"
     ]
    }
   ],
   "source": [
    "df.info()"
   ]
  },
  {
   "cell_type": "markdown",
   "metadata": {},
   "source": [
    "A nossa variável alvo é o Diagnóstico"
   ]
  },
  {
   "cell_type": "code",
   "execution_count": 5,
   "metadata": {},
   "outputs": [
    {
     "name": "stdout",
     "output_type": "stream",
     "text": [
      "Quantidade de diagnósticos positivos: 936 \n",
      "Quantidade de diagnósticos negativos: 764 \n"
     ]
    }
   ],
   "source": [
    "#Verificando se a base de dados esta desbalanceada\n",
    "positivos = df[df['Diagnóstico'] == 1].shape[0]\n",
    "negativos = df[df['Diagnóstico'] == 0].shape[0]\n",
    "\n",
    "print(f\"Quantidade de diagnósticos positivos: {positivos} \"  )\n",
    "print(f\"Quantidade de diagnósticos negativos: {negativos} \"  )"
   ]
  },
  {
   "cell_type": "markdown",
   "metadata": {},
   "source": [
    "Sobre a base de dados, a nossa variável alvo está na coluna 'Diagnóstico', nossa base de dados está levemente balanceada."
   ]
  },
  {
   "cell_type": "markdown",
   "metadata": {},
   "source": [
    "# Treinamento e Avaliação do Modelo"
   ]
  },
  {
   "cell_type": "markdown",
   "metadata": {},
   "source": [
    "Primeiramente irei passar as variáveis categóricas para o modelo e seguir para o modelo"
   ]
  },
  {
   "cell_type": "code",
   "execution_count": 6,
   "metadata": {},
   "outputs": [],
   "source": [
    "categorias =['Gênero', 'Tabagismo', 'Risco genético','Diabetes', 'Hipertensão']"
   ]
  },
  {
   "cell_type": "code",
   "execution_count": 7,
   "metadata": {},
   "outputs": [
    {
     "data": {
      "text/html": [
       "<style type=\"text/css\">\n",
       "#T_2b115_row9_col1, #T_2b115_row15_col1, #T_2b115_row17_col1 {\n",
       "  background-color: lightgreen;\n",
       "}\n",
       "</style>\n",
       "<table id=\"T_2b115\">\n",
       "  <thead>\n",
       "    <tr>\n",
       "      <th class=\"blank level0\" >&nbsp;</th>\n",
       "      <th id=\"T_2b115_level0_col0\" class=\"col_heading level0 col0\" >Description</th>\n",
       "      <th id=\"T_2b115_level0_col1\" class=\"col_heading level0 col1\" >Value</th>\n",
       "    </tr>\n",
       "  </thead>\n",
       "  <tbody>\n",
       "    <tr>\n",
       "      <th id=\"T_2b115_level0_row0\" class=\"row_heading level0 row0\" >0</th>\n",
       "      <td id=\"T_2b115_row0_col0\" class=\"data row0 col0\" >Session id</td>\n",
       "      <td id=\"T_2b115_row0_col1\" class=\"data row0 col1\" >8413</td>\n",
       "    </tr>\n",
       "    <tr>\n",
       "      <th id=\"T_2b115_level0_row1\" class=\"row_heading level0 row1\" >1</th>\n",
       "      <td id=\"T_2b115_row1_col0\" class=\"data row1 col0\" >Target</td>\n",
       "      <td id=\"T_2b115_row1_col1\" class=\"data row1 col1\" >Diagnóstico</td>\n",
       "    </tr>\n",
       "    <tr>\n",
       "      <th id=\"T_2b115_level0_row2\" class=\"row_heading level0 row2\" >2</th>\n",
       "      <td id=\"T_2b115_row2_col0\" class=\"data row2 col0\" >Target type</td>\n",
       "      <td id=\"T_2b115_row2_col1\" class=\"data row2 col1\" >Binary</td>\n",
       "    </tr>\n",
       "    <tr>\n",
       "      <th id=\"T_2b115_level0_row3\" class=\"row_heading level0 row3\" >3</th>\n",
       "      <td id=\"T_2b115_row3_col0\" class=\"data row3 col0\" >Original data shape</td>\n",
       "      <td id=\"T_2b115_row3_col1\" class=\"data row3 col1\" >(1700, 11)</td>\n",
       "    </tr>\n",
       "    <tr>\n",
       "      <th id=\"T_2b115_level0_row4\" class=\"row_heading level0 row4\" >4</th>\n",
       "      <td id=\"T_2b115_row4_col0\" class=\"data row4 col0\" >Transformed data shape</td>\n",
       "      <td id=\"T_2b115_row4_col1\" class=\"data row4 col1\" >(1820, 13)</td>\n",
       "    </tr>\n",
       "    <tr>\n",
       "      <th id=\"T_2b115_level0_row5\" class=\"row_heading level0 row5\" >5</th>\n",
       "      <td id=\"T_2b115_row5_col0\" class=\"data row5 col0\" >Transformed train set shape</td>\n",
       "      <td id=\"T_2b115_row5_col1\" class=\"data row5 col1\" >(1310, 13)</td>\n",
       "    </tr>\n",
       "    <tr>\n",
       "      <th id=\"T_2b115_level0_row6\" class=\"row_heading level0 row6\" >6</th>\n",
       "      <td id=\"T_2b115_row6_col0\" class=\"data row6 col0\" >Transformed test set shape</td>\n",
       "      <td id=\"T_2b115_row6_col1\" class=\"data row6 col1\" >(510, 13)</td>\n",
       "    </tr>\n",
       "    <tr>\n",
       "      <th id=\"T_2b115_level0_row7\" class=\"row_heading level0 row7\" >7</th>\n",
       "      <td id=\"T_2b115_row7_col0\" class=\"data row7 col0\" >Numeric features</td>\n",
       "      <td id=\"T_2b115_row7_col1\" class=\"data row7 col1\" >5</td>\n",
       "    </tr>\n",
       "    <tr>\n",
       "      <th id=\"T_2b115_level0_row8\" class=\"row_heading level0 row8\" >8</th>\n",
       "      <td id=\"T_2b115_row8_col0\" class=\"data row8 col0\" >Categorical features</td>\n",
       "      <td id=\"T_2b115_row8_col1\" class=\"data row8 col1\" >5</td>\n",
       "    </tr>\n",
       "    <tr>\n",
       "      <th id=\"T_2b115_level0_row9\" class=\"row_heading level0 row9\" >9</th>\n",
       "      <td id=\"T_2b115_row9_col0\" class=\"data row9 col0\" >Preprocess</td>\n",
       "      <td id=\"T_2b115_row9_col1\" class=\"data row9 col1\" >True</td>\n",
       "    </tr>\n",
       "    <tr>\n",
       "      <th id=\"T_2b115_level0_row10\" class=\"row_heading level0 row10\" >10</th>\n",
       "      <td id=\"T_2b115_row10_col0\" class=\"data row10 col0\" >Imputation type</td>\n",
       "      <td id=\"T_2b115_row10_col1\" class=\"data row10 col1\" >simple</td>\n",
       "    </tr>\n",
       "    <tr>\n",
       "      <th id=\"T_2b115_level0_row11\" class=\"row_heading level0 row11\" >11</th>\n",
       "      <td id=\"T_2b115_row11_col0\" class=\"data row11 col0\" >Numeric imputation</td>\n",
       "      <td id=\"T_2b115_row11_col1\" class=\"data row11 col1\" >mean</td>\n",
       "    </tr>\n",
       "    <tr>\n",
       "      <th id=\"T_2b115_level0_row12\" class=\"row_heading level0 row12\" >12</th>\n",
       "      <td id=\"T_2b115_row12_col0\" class=\"data row12 col0\" >Categorical imputation</td>\n",
       "      <td id=\"T_2b115_row12_col1\" class=\"data row12 col1\" >mode</td>\n",
       "    </tr>\n",
       "    <tr>\n",
       "      <th id=\"T_2b115_level0_row13\" class=\"row_heading level0 row13\" >13</th>\n",
       "      <td id=\"T_2b115_row13_col0\" class=\"data row13 col0\" >Maximum one-hot encoding</td>\n",
       "      <td id=\"T_2b115_row13_col1\" class=\"data row13 col1\" >25</td>\n",
       "    </tr>\n",
       "    <tr>\n",
       "      <th id=\"T_2b115_level0_row14\" class=\"row_heading level0 row14\" >14</th>\n",
       "      <td id=\"T_2b115_row14_col0\" class=\"data row14 col0\" >Encoding method</td>\n",
       "      <td id=\"T_2b115_row14_col1\" class=\"data row14 col1\" >None</td>\n",
       "    </tr>\n",
       "    <tr>\n",
       "      <th id=\"T_2b115_level0_row15\" class=\"row_heading level0 row15\" >15</th>\n",
       "      <td id=\"T_2b115_row15_col0\" class=\"data row15 col0\" >Fix imbalance</td>\n",
       "      <td id=\"T_2b115_row15_col1\" class=\"data row15 col1\" >True</td>\n",
       "    </tr>\n",
       "    <tr>\n",
       "      <th id=\"T_2b115_level0_row16\" class=\"row_heading level0 row16\" >16</th>\n",
       "      <td id=\"T_2b115_row16_col0\" class=\"data row16 col0\" >Fix imbalance method</td>\n",
       "      <td id=\"T_2b115_row16_col1\" class=\"data row16 col1\" >SMOTE</td>\n",
       "    </tr>\n",
       "    <tr>\n",
       "      <th id=\"T_2b115_level0_row17\" class=\"row_heading level0 row17\" >17</th>\n",
       "      <td id=\"T_2b115_row17_col0\" class=\"data row17 col0\" >Normalize</td>\n",
       "      <td id=\"T_2b115_row17_col1\" class=\"data row17 col1\" >True</td>\n",
       "    </tr>\n",
       "    <tr>\n",
       "      <th id=\"T_2b115_level0_row18\" class=\"row_heading level0 row18\" >18</th>\n",
       "      <td id=\"T_2b115_row18_col0\" class=\"data row18 col0\" >Normalize method</td>\n",
       "      <td id=\"T_2b115_row18_col1\" class=\"data row18 col1\" >zscore</td>\n",
       "    </tr>\n",
       "    <tr>\n",
       "      <th id=\"T_2b115_level0_row19\" class=\"row_heading level0 row19\" >19</th>\n",
       "      <td id=\"T_2b115_row19_col0\" class=\"data row19 col0\" >Fold Generator</td>\n",
       "      <td id=\"T_2b115_row19_col1\" class=\"data row19 col1\" >StratifiedKFold</td>\n",
       "    </tr>\n",
       "    <tr>\n",
       "      <th id=\"T_2b115_level0_row20\" class=\"row_heading level0 row20\" >20</th>\n",
       "      <td id=\"T_2b115_row20_col0\" class=\"data row20 col0\" >Fold Number</td>\n",
       "      <td id=\"T_2b115_row20_col1\" class=\"data row20 col1\" >10</td>\n",
       "    </tr>\n",
       "    <tr>\n",
       "      <th id=\"T_2b115_level0_row21\" class=\"row_heading level0 row21\" >21</th>\n",
       "      <td id=\"T_2b115_row21_col0\" class=\"data row21 col0\" >CPU Jobs</td>\n",
       "      <td id=\"T_2b115_row21_col1\" class=\"data row21 col1\" >-1</td>\n",
       "    </tr>\n",
       "    <tr>\n",
       "      <th id=\"T_2b115_level0_row22\" class=\"row_heading level0 row22\" >22</th>\n",
       "      <td id=\"T_2b115_row22_col0\" class=\"data row22 col0\" >Use GPU</td>\n",
       "      <td id=\"T_2b115_row22_col1\" class=\"data row22 col1\" >False</td>\n",
       "    </tr>\n",
       "    <tr>\n",
       "      <th id=\"T_2b115_level0_row23\" class=\"row_heading level0 row23\" >23</th>\n",
       "      <td id=\"T_2b115_row23_col0\" class=\"data row23 col0\" >Log Experiment</td>\n",
       "      <td id=\"T_2b115_row23_col1\" class=\"data row23 col1\" >False</td>\n",
       "    </tr>\n",
       "    <tr>\n",
       "      <th id=\"T_2b115_level0_row24\" class=\"row_heading level0 row24\" >24</th>\n",
       "      <td id=\"T_2b115_row24_col0\" class=\"data row24 col0\" >Experiment Name</td>\n",
       "      <td id=\"T_2b115_row24_col1\" class=\"data row24 col1\" >clf-default-name</td>\n",
       "    </tr>\n",
       "    <tr>\n",
       "      <th id=\"T_2b115_level0_row25\" class=\"row_heading level0 row25\" >25</th>\n",
       "      <td id=\"T_2b115_row25_col0\" class=\"data row25 col0\" >USI</td>\n",
       "      <td id=\"T_2b115_row25_col1\" class=\"data row25 col1\" >a266</td>\n",
       "    </tr>\n",
       "  </tbody>\n",
       "</table>\n"
      ],
      "text/plain": [
       "<pandas.io.formats.style.Styler at 0x2b16c686620>"
      ]
     },
     "metadata": {},
     "output_type": "display_data"
    }
   ],
   "source": [
    "inicialização = setup(df, target='Diagnóstico', normalize=True, fix_imbalance=True,\n",
    "                      categorical_features= categorias)"
   ]
  },
  {
   "cell_type": "markdown",
   "metadata": {},
   "source": [
    "Primeiramente vamos falar sobre o comando 'setup', ele inicializa o ambiente de treinamento e cria o pipeline de trasnformação do modelo. Ele recebe de forma obrigatória os parâmetros correspondente a base de dados e o 'target' que se refere variável alvo.\n",
    "\n",
    "O parâmetro 'normalize' é para normalizar a base dados, por padrão o pycaret utiliza o método zscore para normalizar e o parâmetro fix_imbalance para fazer o balanceamento da base de dados."
   ]
  },
  {
   "cell_type": "code",
   "execution_count": 8,
   "metadata": {},
   "outputs": [
    {
     "data": {
      "text/html": [],
      "text/plain": [
       "<IPython.core.display.HTML object>"
      ]
     },
     "metadata": {},
     "output_type": "display_data"
    },
    {
     "data": {
      "text/html": [
       "<style type=\"text/css\">\n",
       "#T_a677b th {\n",
       "  text-align: left;\n",
       "}\n",
       "#T_a677b_row0_col0, #T_a677b_row0_col3, #T_a677b_row1_col0, #T_a677b_row1_col1, #T_a677b_row1_col2, #T_a677b_row1_col3, #T_a677b_row1_col4, #T_a677b_row1_col5, #T_a677b_row1_col6, #T_a677b_row1_col7, #T_a677b_row2_col0, #T_a677b_row2_col1, #T_a677b_row2_col2, #T_a677b_row2_col3, #T_a677b_row2_col4, #T_a677b_row2_col5, #T_a677b_row2_col6, #T_a677b_row2_col7, #T_a677b_row3_col0, #T_a677b_row3_col1, #T_a677b_row3_col2, #T_a677b_row3_col3, #T_a677b_row3_col4, #T_a677b_row3_col5, #T_a677b_row3_col6, #T_a677b_row3_col7, #T_a677b_row4_col0, #T_a677b_row4_col1, #T_a677b_row4_col2, #T_a677b_row4_col4, #T_a677b_row4_col5, #T_a677b_row4_col6, #T_a677b_row4_col7, #T_a677b_row5_col0, #T_a677b_row5_col1, #T_a677b_row5_col2, #T_a677b_row5_col3, #T_a677b_row5_col4, #T_a677b_row5_col5, #T_a677b_row5_col6, #T_a677b_row5_col7, #T_a677b_row6_col0, #T_a677b_row6_col1, #T_a677b_row6_col2, #T_a677b_row6_col3, #T_a677b_row6_col4, #T_a677b_row6_col5, #T_a677b_row6_col6, #T_a677b_row6_col7, #T_a677b_row7_col0, #T_a677b_row7_col1, #T_a677b_row7_col2, #T_a677b_row7_col3, #T_a677b_row7_col4, #T_a677b_row7_col5, #T_a677b_row7_col6, #T_a677b_row7_col7, #T_a677b_row8_col0, #T_a677b_row8_col1, #T_a677b_row8_col2, #T_a677b_row8_col3, #T_a677b_row8_col4, #T_a677b_row8_col5, #T_a677b_row8_col6, #T_a677b_row8_col7, #T_a677b_row9_col0, #T_a677b_row9_col1, #T_a677b_row9_col2, #T_a677b_row9_col3, #T_a677b_row9_col4, #T_a677b_row9_col5, #T_a677b_row9_col6, #T_a677b_row9_col7, #T_a677b_row10_col0, #T_a677b_row10_col1, #T_a677b_row10_col2, #T_a677b_row10_col3, #T_a677b_row10_col4, #T_a677b_row10_col5, #T_a677b_row10_col6, #T_a677b_row10_col7, #T_a677b_row11_col0, #T_a677b_row11_col1, #T_a677b_row11_col2, #T_a677b_row11_col3, #T_a677b_row11_col4, #T_a677b_row11_col5, #T_a677b_row11_col6, #T_a677b_row11_col7, #T_a677b_row12_col0, #T_a677b_row12_col1, #T_a677b_row12_col2, #T_a677b_row12_col3, #T_a677b_row12_col4, #T_a677b_row12_col5, #T_a677b_row12_col6, #T_a677b_row12_col7, #T_a677b_row13_col0, #T_a677b_row13_col1, #T_a677b_row13_col2, #T_a677b_row13_col3, #T_a677b_row13_col4, #T_a677b_row13_col5, #T_a677b_row13_col6, #T_a677b_row13_col7 {\n",
       "  text-align: left;\n",
       "}\n",
       "#T_a677b_row0_col1, #T_a677b_row0_col2, #T_a677b_row0_col4, #T_a677b_row0_col5, #T_a677b_row0_col6, #T_a677b_row0_col7, #T_a677b_row4_col3 {\n",
       "  text-align: left;\n",
       "  background-color: yellow;\n",
       "}\n",
       "#T_a677b_row0_col8, #T_a677b_row1_col8, #T_a677b_row2_col8, #T_a677b_row3_col8, #T_a677b_row4_col8, #T_a677b_row5_col8, #T_a677b_row6_col8, #T_a677b_row8_col8, #T_a677b_row9_col8, #T_a677b_row10_col8, #T_a677b_row11_col8, #T_a677b_row12_col8, #T_a677b_row13_col8 {\n",
       "  text-align: left;\n",
       "  background-color: lightgrey;\n",
       "}\n",
       "#T_a677b_row7_col8 {\n",
       "  text-align: left;\n",
       "  background-color: yellow;\n",
       "  background-color: lightgrey;\n",
       "}\n",
       "</style>\n",
       "<table id=\"T_a677b\">\n",
       "  <thead>\n",
       "    <tr>\n",
       "      <th class=\"blank level0\" >&nbsp;</th>\n",
       "      <th id=\"T_a677b_level0_col0\" class=\"col_heading level0 col0\" >Model</th>\n",
       "      <th id=\"T_a677b_level0_col1\" class=\"col_heading level0 col1\" >Accuracy</th>\n",
       "      <th id=\"T_a677b_level0_col2\" class=\"col_heading level0 col2\" >AUC</th>\n",
       "      <th id=\"T_a677b_level0_col3\" class=\"col_heading level0 col3\" >Recall</th>\n",
       "      <th id=\"T_a677b_level0_col4\" class=\"col_heading level0 col4\" >Prec.</th>\n",
       "      <th id=\"T_a677b_level0_col5\" class=\"col_heading level0 col5\" >F1</th>\n",
       "      <th id=\"T_a677b_level0_col6\" class=\"col_heading level0 col6\" >Kappa</th>\n",
       "      <th id=\"T_a677b_level0_col7\" class=\"col_heading level0 col7\" >MCC</th>\n",
       "      <th id=\"T_a677b_level0_col8\" class=\"col_heading level0 col8\" >TT (Sec)</th>\n",
       "    </tr>\n",
       "  </thead>\n",
       "  <tbody>\n",
       "    <tr>\n",
       "      <th id=\"T_a677b_level0_row0\" class=\"row_heading level0 row0\" >gbc</th>\n",
       "      <td id=\"T_a677b_row0_col0\" class=\"data row0 col0\" >Gradient Boosting Classifier</td>\n",
       "      <td id=\"T_a677b_row0_col1\" class=\"data row0 col1\" >0.9000</td>\n",
       "      <td id=\"T_a677b_row0_col2\" class=\"data row0 col2\" >0.9468</td>\n",
       "      <td id=\"T_a677b_row0_col3\" class=\"data row0 col3\" >0.8916</td>\n",
       "      <td id=\"T_a677b_row0_col4\" class=\"data row0 col4\" >0.9251</td>\n",
       "      <td id=\"T_a677b_row0_col5\" class=\"data row0 col5\" >0.9073</td>\n",
       "      <td id=\"T_a677b_row0_col6\" class=\"data row0 col6\" >0.7988</td>\n",
       "      <td id=\"T_a677b_row0_col7\" class=\"data row0 col7\" >0.8008</td>\n",
       "      <td id=\"T_a677b_row0_col8\" class=\"data row0 col8\" >0.0640</td>\n",
       "    </tr>\n",
       "    <tr>\n",
       "      <th id=\"T_a677b_level0_row1\" class=\"row_heading level0 row1\" >rf</th>\n",
       "      <td id=\"T_a677b_row1_col0\" class=\"data row1 col0\" >Random Forest Classifier</td>\n",
       "      <td id=\"T_a677b_row1_col1\" class=\"data row1 col1\" >0.8899</td>\n",
       "      <td id=\"T_a677b_row1_col2\" class=\"data row1 col2\" >0.9424</td>\n",
       "      <td id=\"T_a677b_row1_col3\" class=\"data row1 col3\" >0.8947</td>\n",
       "      <td id=\"T_a677b_row1_col4\" class=\"data row1 col4\" >0.9052</td>\n",
       "      <td id=\"T_a677b_row1_col5\" class=\"data row1 col5\" >0.8994</td>\n",
       "      <td id=\"T_a677b_row1_col6\" class=\"data row1 col6\" >0.7778</td>\n",
       "      <td id=\"T_a677b_row1_col7\" class=\"data row1 col7\" >0.7788</td>\n",
       "      <td id=\"T_a677b_row1_col8\" class=\"data row1 col8\" >0.0740</td>\n",
       "    </tr>\n",
       "    <tr>\n",
       "      <th id=\"T_a677b_level0_row2\" class=\"row_heading level0 row2\" >ada</th>\n",
       "      <td id=\"T_a677b_row2_col0\" class=\"data row2 col0\" >Ada Boost Classifier</td>\n",
       "      <td id=\"T_a677b_row2_col1\" class=\"data row2 col1\" >0.8857</td>\n",
       "      <td id=\"T_a677b_row2_col2\" class=\"data row2 col2\" >0.9454</td>\n",
       "      <td id=\"T_a677b_row2_col3\" class=\"data row2 col3\" >0.8671</td>\n",
       "      <td id=\"T_a677b_row2_col4\" class=\"data row2 col4\" >0.9214</td>\n",
       "      <td id=\"T_a677b_row2_col5\" class=\"data row2 col5\" >0.8926</td>\n",
       "      <td id=\"T_a677b_row2_col6\" class=\"data row2 col6\" >0.7707</td>\n",
       "      <td id=\"T_a677b_row2_col7\" class=\"data row2 col7\" >0.7737</td>\n",
       "      <td id=\"T_a677b_row2_col8\" class=\"data row2 col8\" >0.0470</td>\n",
       "    </tr>\n",
       "    <tr>\n",
       "      <th id=\"T_a677b_level0_row3\" class=\"row_heading level0 row3\" >lightgbm</th>\n",
       "      <td id=\"T_a677b_row3_col0\" class=\"data row3 col0\" >Light Gradient Boosting Machine</td>\n",
       "      <td id=\"T_a677b_row3_col1\" class=\"data row3 col1\" >0.8849</td>\n",
       "      <td id=\"T_a677b_row3_col2\" class=\"data row3 col2\" >0.9399</td>\n",
       "      <td id=\"T_a677b_row3_col3\" class=\"data row3 col3\" >0.8855</td>\n",
       "      <td id=\"T_a677b_row3_col4\" class=\"data row3 col4\" >0.9043</td>\n",
       "      <td id=\"T_a677b_row3_col5\" class=\"data row3 col5\" >0.8942</td>\n",
       "      <td id=\"T_a677b_row3_col6\" class=\"data row3 col6\" >0.7679</td>\n",
       "      <td id=\"T_a677b_row3_col7\" class=\"data row3 col7\" >0.7693</td>\n",
       "      <td id=\"T_a677b_row3_col8\" class=\"data row3 col8\" >0.0990</td>\n",
       "    </tr>\n",
       "    <tr>\n",
       "      <th id=\"T_a677b_level0_row4\" class=\"row_heading level0 row4\" >et</th>\n",
       "      <td id=\"T_a677b_row4_col0\" class=\"data row4 col0\" >Extra Trees Classifier</td>\n",
       "      <td id=\"T_a677b_row4_col1\" class=\"data row4 col1\" >0.8739</td>\n",
       "      <td id=\"T_a677b_row4_col2\" class=\"data row4 col2\" >0.9296</td>\n",
       "      <td id=\"T_a677b_row4_col3\" class=\"data row4 col3\" >0.8977</td>\n",
       "      <td id=\"T_a677b_row4_col4\" class=\"data row4 col4\" >0.8770</td>\n",
       "      <td id=\"T_a677b_row4_col5\" class=\"data row4 col5\" >0.8869</td>\n",
       "      <td id=\"T_a677b_row4_col6\" class=\"data row4 col6\" >0.7445</td>\n",
       "      <td id=\"T_a677b_row4_col7\" class=\"data row4 col7\" >0.7455</td>\n",
       "      <td id=\"T_a677b_row4_col8\" class=\"data row4 col8\" >0.0710</td>\n",
       "    </tr>\n",
       "    <tr>\n",
       "      <th id=\"T_a677b_level0_row5\" class=\"row_heading level0 row5\" >dt</th>\n",
       "      <td id=\"T_a677b_row5_col0\" class=\"data row5 col0\" >Decision Tree Classifier</td>\n",
       "      <td id=\"T_a677b_row5_col1\" class=\"data row5 col1\" >0.8361</td>\n",
       "      <td id=\"T_a677b_row5_col2\" class=\"data row5 col2\" >0.8347</td>\n",
       "      <td id=\"T_a677b_row5_col3\" class=\"data row5 col3\" >0.8489</td>\n",
       "      <td id=\"T_a677b_row5_col4\" class=\"data row5 col4\" >0.8533</td>\n",
       "      <td id=\"T_a677b_row5_col5\" class=\"data row5 col5\" >0.8501</td>\n",
       "      <td id=\"T_a677b_row5_col6\" class=\"data row5 col6\" >0.6693</td>\n",
       "      <td id=\"T_a677b_row5_col7\" class=\"data row5 col7\" >0.6710</td>\n",
       "      <td id=\"T_a677b_row5_col8\" class=\"data row5 col8\" >0.0280</td>\n",
       "    </tr>\n",
       "    <tr>\n",
       "      <th id=\"T_a677b_level0_row6\" class=\"row_heading level0 row6\" >lr</th>\n",
       "      <td id=\"T_a677b_row6_col0\" class=\"data row6 col0\" >Logistic Regression</td>\n",
       "      <td id=\"T_a677b_row6_col1\" class=\"data row6 col1\" >0.8328</td>\n",
       "      <td id=\"T_a677b_row6_col2\" class=\"data row6 col2\" >0.9146</td>\n",
       "      <td id=\"T_a677b_row6_col3\" class=\"data row6 col3\" >0.8260</td>\n",
       "      <td id=\"T_a677b_row6_col4\" class=\"data row6 col4\" >0.8651</td>\n",
       "      <td id=\"T_a677b_row6_col5\" class=\"data row6 col5\" >0.8448</td>\n",
       "      <td id=\"T_a677b_row6_col6\" class=\"data row6 col6\" >0.6637</td>\n",
       "      <td id=\"T_a677b_row6_col7\" class=\"data row6 col7\" >0.6651</td>\n",
       "      <td id=\"T_a677b_row6_col8\" class=\"data row6 col8\" >0.4990</td>\n",
       "    </tr>\n",
       "    <tr>\n",
       "      <th id=\"T_a677b_level0_row7\" class=\"row_heading level0 row7\" >lda</th>\n",
       "      <td id=\"T_a677b_row7_col0\" class=\"data row7 col0\" >Linear Discriminant Analysis</td>\n",
       "      <td id=\"T_a677b_row7_col1\" class=\"data row7 col1\" >0.8235</td>\n",
       "      <td id=\"T_a677b_row7_col2\" class=\"data row7 col2\" >0.9133</td>\n",
       "      <td id=\"T_a677b_row7_col3\" class=\"data row7 col3\" >0.8108</td>\n",
       "      <td id=\"T_a677b_row7_col4\" class=\"data row7 col4\" >0.8612</td>\n",
       "      <td id=\"T_a677b_row7_col5\" class=\"data row7 col5\" >0.8349</td>\n",
       "      <td id=\"T_a677b_row7_col6\" class=\"data row7 col6\" >0.6457</td>\n",
       "      <td id=\"T_a677b_row7_col7\" class=\"data row7 col7\" >0.6476</td>\n",
       "      <td id=\"T_a677b_row7_col8\" class=\"data row7 col8\" >0.0260</td>\n",
       "    </tr>\n",
       "    <tr>\n",
       "      <th id=\"T_a677b_level0_row8\" class=\"row_heading level0 row8\" >ridge</th>\n",
       "      <td id=\"T_a677b_row8_col0\" class=\"data row8 col0\" >Ridge Classifier</td>\n",
       "      <td id=\"T_a677b_row8_col1\" class=\"data row8 col1\" >0.8227</td>\n",
       "      <td id=\"T_a677b_row8_col2\" class=\"data row8 col2\" >0.9131</td>\n",
       "      <td id=\"T_a677b_row8_col3\" class=\"data row8 col3\" >0.8123</td>\n",
       "      <td id=\"T_a677b_row8_col4\" class=\"data row8 col4\" >0.8585</td>\n",
       "      <td id=\"T_a677b_row8_col5\" class=\"data row8 col5\" >0.8345</td>\n",
       "      <td id=\"T_a677b_row8_col6\" class=\"data row8 col6\" >0.6438</td>\n",
       "      <td id=\"T_a677b_row8_col7\" class=\"data row8 col7\" >0.6454</td>\n",
       "      <td id=\"T_a677b_row8_col8\" class=\"data row8 col8\" >0.0280</td>\n",
       "    </tr>\n",
       "    <tr>\n",
       "      <th id=\"T_a677b_level0_row9\" class=\"row_heading level0 row9\" >knn</th>\n",
       "      <td id=\"T_a677b_row9_col0\" class=\"data row9 col0\" >K Neighbors Classifier</td>\n",
       "      <td id=\"T_a677b_row9_col1\" class=\"data row9 col1\" >0.8185</td>\n",
       "      <td id=\"T_a677b_row9_col2\" class=\"data row9 col2\" >0.8821</td>\n",
       "      <td id=\"T_a677b_row9_col3\" class=\"data row9 col3\" >0.8213</td>\n",
       "      <td id=\"T_a677b_row9_col4\" class=\"data row9 col4\" >0.8454</td>\n",
       "      <td id=\"T_a677b_row9_col5\" class=\"data row9 col5\" >0.8327</td>\n",
       "      <td id=\"T_a677b_row9_col6\" class=\"data row9 col6\" >0.6342</td>\n",
       "      <td id=\"T_a677b_row9_col7\" class=\"data row9 col7\" >0.6353</td>\n",
       "      <td id=\"T_a677b_row9_col8\" class=\"data row9 col8\" >0.2700</td>\n",
       "    </tr>\n",
       "    <tr>\n",
       "      <th id=\"T_a677b_level0_row10\" class=\"row_heading level0 row10\" >svm</th>\n",
       "      <td id=\"T_a677b_row10_col0\" class=\"data row10 col0\" >SVM - Linear Kernel</td>\n",
       "      <td id=\"T_a677b_row10_col1\" class=\"data row10 col1\" >0.8067</td>\n",
       "      <td id=\"T_a677b_row10_col2\" class=\"data row10 col2\" >0.8866</td>\n",
       "      <td id=\"T_a677b_row10_col3\" class=\"data row10 col3\" >0.8397</td>\n",
       "      <td id=\"T_a677b_row10_col4\" class=\"data row10 col4\" >0.8166</td>\n",
       "      <td id=\"T_a677b_row10_col5\" class=\"data row10 col5\" >0.8263</td>\n",
       "      <td id=\"T_a677b_row10_col6\" class=\"data row10 col6\" >0.6082</td>\n",
       "      <td id=\"T_a677b_row10_col7\" class=\"data row10 col7\" >0.6122</td>\n",
       "      <td id=\"T_a677b_row10_col8\" class=\"data row10 col8\" >0.0270</td>\n",
       "    </tr>\n",
       "    <tr>\n",
       "      <th id=\"T_a677b_level0_row11\" class=\"row_heading level0 row11\" >qda</th>\n",
       "      <td id=\"T_a677b_row11_col0\" class=\"data row11 col0\" >Quadratic Discriminant Analysis</td>\n",
       "      <td id=\"T_a677b_row11_col1\" class=\"data row11 col1\" >0.7664</td>\n",
       "      <td id=\"T_a677b_row11_col2\" class=\"data row11 col2\" >0.8544</td>\n",
       "      <td id=\"T_a677b_row11_col3\" class=\"data row11 col3\" >0.7037</td>\n",
       "      <td id=\"T_a677b_row11_col4\" class=\"data row11 col4\" >0.8516</td>\n",
       "      <td id=\"T_a677b_row11_col5\" class=\"data row11 col5\" >0.7679</td>\n",
       "      <td id=\"T_a677b_row11_col6\" class=\"data row11 col6\" >0.5363</td>\n",
       "      <td id=\"T_a677b_row11_col7\" class=\"data row11 col7\" >0.5494</td>\n",
       "      <td id=\"T_a677b_row11_col8\" class=\"data row11 col8\" >0.0290</td>\n",
       "    </tr>\n",
       "    <tr>\n",
       "      <th id=\"T_a677b_level0_row12\" class=\"row_heading level0 row12\" >nb</th>\n",
       "      <td id=\"T_a677b_row12_col0\" class=\"data row12 col0\" >Naive Bayes</td>\n",
       "      <td id=\"T_a677b_row12_col1\" class=\"data row12 col1\" >0.7269</td>\n",
       "      <td id=\"T_a677b_row12_col2\" class=\"data row12 col2\" >0.8438</td>\n",
       "      <td id=\"T_a677b_row12_col3\" class=\"data row12 col3\" >0.6444</td>\n",
       "      <td id=\"T_a677b_row12_col4\" class=\"data row12 col4\" >0.8214</td>\n",
       "      <td id=\"T_a677b_row12_col5\" class=\"data row12 col5\" >0.7218</td>\n",
       "      <td id=\"T_a677b_row12_col6\" class=\"data row12 col6\" >0.4612</td>\n",
       "      <td id=\"T_a677b_row12_col7\" class=\"data row12 col7\" >0.4746</td>\n",
       "      <td id=\"T_a677b_row12_col8\" class=\"data row12 col8\" >0.0280</td>\n",
       "    </tr>\n",
       "    <tr>\n",
       "      <th id=\"T_a677b_level0_row13\" class=\"row_heading level0 row13\" >dummy</th>\n",
       "      <td id=\"T_a677b_row13_col0\" class=\"data row13 col0\" >Dummy Classifier</td>\n",
       "      <td id=\"T_a677b_row13_col1\" class=\"data row13 col1\" >0.4496</td>\n",
       "      <td id=\"T_a677b_row13_col2\" class=\"data row13 col2\" >0.5000</td>\n",
       "      <td id=\"T_a677b_row13_col3\" class=\"data row13 col3\" >0.0000</td>\n",
       "      <td id=\"T_a677b_row13_col4\" class=\"data row13 col4\" >0.0000</td>\n",
       "      <td id=\"T_a677b_row13_col5\" class=\"data row13 col5\" >0.0000</td>\n",
       "      <td id=\"T_a677b_row13_col6\" class=\"data row13 col6\" >0.0000</td>\n",
       "      <td id=\"T_a677b_row13_col7\" class=\"data row13 col7\" >0.0000</td>\n",
       "      <td id=\"T_a677b_row13_col8\" class=\"data row13 col8\" >0.0270</td>\n",
       "    </tr>\n",
       "  </tbody>\n",
       "</table>\n"
      ],
      "text/plain": [
       "<pandas.io.formats.style.Styler at 0x2b16c684e80>"
      ]
     },
     "metadata": {},
     "output_type": "display_data"
    },
    {
     "data": {
      "text/html": [],
      "text/plain": [
       "<IPython.core.display.HTML object>"
      ]
     },
     "metadata": {},
     "output_type": "display_data"
    }
   ],
   "source": [
    "best_model = compare_models()"
   ]
  },
  {
   "cell_type": "markdown",
   "metadata": {},
   "source": [
    "O comando 'compare_models' compara uma série de algoritmos de machine learning e compara as principais métricas de avaliação do modelo. Por padrão o PyCaret ordena do maior para o menor utilizando o accuracy, mas podemos passar para o modelo qual métrica odenar utilizando o parâmetro 'sort'.\n",
    "\n",
    "Como o modelo gbc possui as melhores métricas do compare_models vamos escolher ele para continuar o nosso projeto."
   ]
  },
  {
   "cell_type": "markdown",
   "metadata": {},
   "source": [
    "Com o exemplo acima conseguir avaliar mais de 10 modelos de calssificação diferentes e escolher qual possui as melhores métricas. Imagina chegar a essa conclusão sem a utilização do PyCaret, seriam muitas linhas de código e dependendo do tamanho da base poderia demorar até dias para encontrar o melhor modelo."
   ]
  },
  {
   "cell_type": "markdown",
   "metadata": {},
   "source": [
    "Depois de encontrado o modelo que mais se adapta a nossa base vamos criar esse modelo e exibir as métricas de cada folds e o desvio padrão para cada métrica do modelo. Não vou me aprofundar muito sobre o que são cada métricas nem cada parâmetro, sugiro verificar a documentação."
   ]
  },
  {
   "cell_type": "code",
   "execution_count": 9,
   "metadata": {},
   "outputs": [
    {
     "data": {
      "text/html": [],
      "text/plain": [
       "<IPython.core.display.HTML object>"
      ]
     },
     "metadata": {},
     "output_type": "display_data"
    },
    {
     "data": {
      "text/html": [
       "<style type=\"text/css\">\n",
       "#T_7c857_row10_col0, #T_7c857_row10_col1, #T_7c857_row10_col2, #T_7c857_row10_col3, #T_7c857_row10_col4, #T_7c857_row10_col5, #T_7c857_row10_col6 {\n",
       "  background: yellow;\n",
       "}\n",
       "</style>\n",
       "<table id=\"T_7c857\">\n",
       "  <thead>\n",
       "    <tr>\n",
       "      <th class=\"blank level0\" >&nbsp;</th>\n",
       "      <th id=\"T_7c857_level0_col0\" class=\"col_heading level0 col0\" >Accuracy</th>\n",
       "      <th id=\"T_7c857_level0_col1\" class=\"col_heading level0 col1\" >AUC</th>\n",
       "      <th id=\"T_7c857_level0_col2\" class=\"col_heading level0 col2\" >Recall</th>\n",
       "      <th id=\"T_7c857_level0_col3\" class=\"col_heading level0 col3\" >Prec.</th>\n",
       "      <th id=\"T_7c857_level0_col4\" class=\"col_heading level0 col4\" >F1</th>\n",
       "      <th id=\"T_7c857_level0_col5\" class=\"col_heading level0 col5\" >Kappa</th>\n",
       "      <th id=\"T_7c857_level0_col6\" class=\"col_heading level0 col6\" >MCC</th>\n",
       "    </tr>\n",
       "    <tr>\n",
       "      <th class=\"index_name level0\" >Fold</th>\n",
       "      <th class=\"blank col0\" >&nbsp;</th>\n",
       "      <th class=\"blank col1\" >&nbsp;</th>\n",
       "      <th class=\"blank col2\" >&nbsp;</th>\n",
       "      <th class=\"blank col3\" >&nbsp;</th>\n",
       "      <th class=\"blank col4\" >&nbsp;</th>\n",
       "      <th class=\"blank col5\" >&nbsp;</th>\n",
       "      <th class=\"blank col6\" >&nbsp;</th>\n",
       "    </tr>\n",
       "  </thead>\n",
       "  <tbody>\n",
       "    <tr>\n",
       "      <th id=\"T_7c857_level0_row0\" class=\"row_heading level0 row0\" >0</th>\n",
       "      <td id=\"T_7c857_row0_col0\" class=\"data row0 col0\" >0.9076</td>\n",
       "      <td id=\"T_7c857_row0_col1\" class=\"data row0 col1\" >0.9524</td>\n",
       "      <td id=\"T_7c857_row0_col2\" class=\"data row0 col2\" >0.9231</td>\n",
       "      <td id=\"T_7c857_row0_col3\" class=\"data row0 col3\" >0.9091</td>\n",
       "      <td id=\"T_7c857_row0_col4\" class=\"data row0 col4\" >0.9160</td>\n",
       "      <td id=\"T_7c857_row0_col5\" class=\"data row0 col5\" >0.8132</td>\n",
       "      <td id=\"T_7c857_row0_col6\" class=\"data row0 col6\" >0.8134</td>\n",
       "    </tr>\n",
       "    <tr>\n",
       "      <th id=\"T_7c857_level0_row1\" class=\"row_heading level0 row1\" >1</th>\n",
       "      <td id=\"T_7c857_row1_col0\" class=\"data row1 col0\" >0.8487</td>\n",
       "      <td id=\"T_7c857_row1_col1\" class=\"data row1 col1\" >0.9236</td>\n",
       "      <td id=\"T_7c857_row1_col2\" class=\"data row1 col2\" >0.8000</td>\n",
       "      <td id=\"T_7c857_row1_col3\" class=\"data row1 col3\" >0.9123</td>\n",
       "      <td id=\"T_7c857_row1_col4\" class=\"data row1 col4\" >0.8525</td>\n",
       "      <td id=\"T_7c857_row1_col5\" class=\"data row1 col5\" >0.6986</td>\n",
       "      <td id=\"T_7c857_row1_col6\" class=\"data row1 col6\" >0.7050</td>\n",
       "    </tr>\n",
       "    <tr>\n",
       "      <th id=\"T_7c857_level0_row2\" class=\"row_heading level0 row2\" >2</th>\n",
       "      <td id=\"T_7c857_row2_col0\" class=\"data row2 col0\" >0.9160</td>\n",
       "      <td id=\"T_7c857_row2_col1\" class=\"data row2 col1\" >0.9322</td>\n",
       "      <td id=\"T_7c857_row2_col2\" class=\"data row2 col2\" >0.9538</td>\n",
       "      <td id=\"T_7c857_row2_col3\" class=\"data row2 col3\" >0.8986</td>\n",
       "      <td id=\"T_7c857_row2_col4\" class=\"data row2 col4\" >0.9254</td>\n",
       "      <td id=\"T_7c857_row2_col5\" class=\"data row2 col5\" >0.8294</td>\n",
       "      <td id=\"T_7c857_row2_col6\" class=\"data row2 col6\" >0.8314</td>\n",
       "    </tr>\n",
       "    <tr>\n",
       "      <th id=\"T_7c857_level0_row3\" class=\"row_heading level0 row3\" >3</th>\n",
       "      <td id=\"T_7c857_row3_col0\" class=\"data row3 col0\" >0.9244</td>\n",
       "      <td id=\"T_7c857_row3_col1\" class=\"data row3 col1\" >0.9550</td>\n",
       "      <td id=\"T_7c857_row3_col2\" class=\"data row3 col2\" >0.9077</td>\n",
       "      <td id=\"T_7c857_row3_col3\" class=\"data row3 col3\" >0.9516</td>\n",
       "      <td id=\"T_7c857_row3_col4\" class=\"data row3 col4\" >0.9291</td>\n",
       "      <td id=\"T_7c857_row3_col5\" class=\"data row3 col5\" >0.8481</td>\n",
       "      <td id=\"T_7c857_row3_col6\" class=\"data row3 col6\" >0.8492</td>\n",
       "    </tr>\n",
       "    <tr>\n",
       "      <th id=\"T_7c857_level0_row4\" class=\"row_heading level0 row4\" >4</th>\n",
       "      <td id=\"T_7c857_row4_col0\" class=\"data row4 col0\" >0.9664</td>\n",
       "      <td id=\"T_7c857_row4_col1\" class=\"data row4 col1\" >0.9803</td>\n",
       "      <td id=\"T_7c857_row4_col2\" class=\"data row4 col2\" >0.9846</td>\n",
       "      <td id=\"T_7c857_row4_col3\" class=\"data row4 col3\" >0.9552</td>\n",
       "      <td id=\"T_7c857_row4_col4\" class=\"data row4 col4\" >0.9697</td>\n",
       "      <td id=\"T_7c857_row4_col5\" class=\"data row4 col5\" >0.9320</td>\n",
       "      <td id=\"T_7c857_row4_col6\" class=\"data row4 col6\" >0.9325</td>\n",
       "    </tr>\n",
       "    <tr>\n",
       "      <th id=\"T_7c857_level0_row5\" class=\"row_heading level0 row5\" >5</th>\n",
       "      <td id=\"T_7c857_row5_col0\" class=\"data row5 col0\" >0.9496</td>\n",
       "      <td id=\"T_7c857_row5_col1\" class=\"data row5 col1\" >0.9934</td>\n",
       "      <td id=\"T_7c857_row5_col2\" class=\"data row5 col2\" >0.9394</td>\n",
       "      <td id=\"T_7c857_row5_col3\" class=\"data row5 col3\" >0.9688</td>\n",
       "      <td id=\"T_7c857_row5_col4\" class=\"data row5 col4\" >0.9538</td>\n",
       "      <td id=\"T_7c857_row5_col5\" class=\"data row5 col5\" >0.8983</td>\n",
       "      <td id=\"T_7c857_row5_col6\" class=\"data row5 col6\" >0.8988</td>\n",
       "    </tr>\n",
       "    <tr>\n",
       "      <th id=\"T_7c857_level0_row6\" class=\"row_heading level0 row6\" >6</th>\n",
       "      <td id=\"T_7c857_row6_col0\" class=\"data row6 col0\" >0.8992</td>\n",
       "      <td id=\"T_7c857_row6_col1\" class=\"data row6 col1\" >0.9401</td>\n",
       "      <td id=\"T_7c857_row6_col2\" class=\"data row6 col2\" >0.8788</td>\n",
       "      <td id=\"T_7c857_row6_col3\" class=\"data row6 col3\" >0.9355</td>\n",
       "      <td id=\"T_7c857_row6_col4\" class=\"data row6 col4\" >0.9062</td>\n",
       "      <td id=\"T_7c857_row6_col5\" class=\"data row6 col5\" >0.7974</td>\n",
       "      <td id=\"T_7c857_row6_col6\" class=\"data row6 col6\" >0.7992</td>\n",
       "    </tr>\n",
       "    <tr>\n",
       "      <th id=\"T_7c857_level0_row7\" class=\"row_heading level0 row7\" >7</th>\n",
       "      <td id=\"T_7c857_row7_col0\" class=\"data row7 col0\" >0.8571</td>\n",
       "      <td id=\"T_7c857_row7_col1\" class=\"data row7 col1\" >0.9034</td>\n",
       "      <td id=\"T_7c857_row7_col2\" class=\"data row7 col2\" >0.8788</td>\n",
       "      <td id=\"T_7c857_row7_col3\" class=\"data row7 col3\" >0.8657</td>\n",
       "      <td id=\"T_7c857_row7_col4\" class=\"data row7 col4\" >0.8722</td>\n",
       "      <td id=\"T_7c857_row7_col5\" class=\"data row7 col5\" >0.7103</td>\n",
       "      <td id=\"T_7c857_row7_col6\" class=\"data row7 col6\" >0.7104</td>\n",
       "    </tr>\n",
       "    <tr>\n",
       "      <th id=\"T_7c857_level0_row8\" class=\"row_heading level0 row8\" >8</th>\n",
       "      <td id=\"T_7c857_row8_col0\" class=\"data row8 col0\" >0.8487</td>\n",
       "      <td id=\"T_7c857_row8_col1\" class=\"data row8 col1\" >0.9108</td>\n",
       "      <td id=\"T_7c857_row8_col2\" class=\"data row8 col2\" >0.8333</td>\n",
       "      <td id=\"T_7c857_row8_col3\" class=\"data row8 col3\" >0.8871</td>\n",
       "      <td id=\"T_7c857_row8_col4\" class=\"data row8 col4\" >0.8594</td>\n",
       "      <td id=\"T_7c857_row8_col5\" class=\"data row8 col5\" >0.6961</td>\n",
       "      <td id=\"T_7c857_row8_col6\" class=\"data row8 col6\" >0.6977</td>\n",
       "    </tr>\n",
       "    <tr>\n",
       "      <th id=\"T_7c857_level0_row9\" class=\"row_heading level0 row9\" >9</th>\n",
       "      <td id=\"T_7c857_row9_col0\" class=\"data row9 col0\" >0.9076</td>\n",
       "      <td id=\"T_7c857_row9_col1\" class=\"data row9 col1\" >0.9786</td>\n",
       "      <td id=\"T_7c857_row9_col2\" class=\"data row9 col2\" >0.8939</td>\n",
       "      <td id=\"T_7c857_row9_col3\" class=\"data row9 col3\" >0.9365</td>\n",
       "      <td id=\"T_7c857_row9_col4\" class=\"data row9 col4\" >0.9147</td>\n",
       "      <td id=\"T_7c857_row9_col5\" class=\"data row9 col5\" >0.8139</td>\n",
       "      <td id=\"T_7c857_row9_col6\" class=\"data row9 col6\" >0.8150</td>\n",
       "    </tr>\n",
       "    <tr>\n",
       "      <th id=\"T_7c857_level0_row10\" class=\"row_heading level0 row10\" >Mean</th>\n",
       "      <td id=\"T_7c857_row10_col0\" class=\"data row10 col0\" >0.9025</td>\n",
       "      <td id=\"T_7c857_row10_col1\" class=\"data row10 col1\" >0.9470</td>\n",
       "      <td id=\"T_7c857_row10_col2\" class=\"data row10 col2\" >0.8993</td>\n",
       "      <td id=\"T_7c857_row10_col3\" class=\"data row10 col3\" >0.9220</td>\n",
       "      <td id=\"T_7c857_row10_col4\" class=\"data row10 col4\" >0.9099</td>\n",
       "      <td id=\"T_7c857_row10_col5\" class=\"data row10 col5\" >0.8037</td>\n",
       "      <td id=\"T_7c857_row10_col6\" class=\"data row10 col6\" >0.8053</td>\n",
       "    </tr>\n",
       "    <tr>\n",
       "      <th id=\"T_7c857_level0_row11\" class=\"row_heading level0 row11\" >Std</th>\n",
       "      <td id=\"T_7c857_row11_col0\" class=\"data row11 col0\" >0.0385</td>\n",
       "      <td id=\"T_7c857_row11_col1\" class=\"data row11 col1\" >0.0290</td>\n",
       "      <td id=\"T_7c857_row11_col2\" class=\"data row11 col2\" >0.0525</td>\n",
       "      <td id=\"T_7c857_row11_col3\" class=\"data row11 col3\" >0.0312</td>\n",
       "      <td id=\"T_7c857_row11_col4\" class=\"data row11 col4\" >0.0367</td>\n",
       "      <td id=\"T_7c857_row11_col5\" class=\"data row11 col5\" >0.0772</td>\n",
       "      <td id=\"T_7c857_row11_col6\" class=\"data row11 col6\" >0.0764</td>\n",
       "    </tr>\n",
       "  </tbody>\n",
       "</table>\n"
      ],
      "text/plain": [
       "<pandas.io.formats.style.Styler at 0x2b16c4aee30>"
      ]
     },
     "metadata": {},
     "output_type": "display_data"
    },
    {
     "data": {
      "text/html": [],
      "text/plain": [
       "<IPython.core.display.HTML object>"
      ]
     },
     "metadata": {},
     "output_type": "display_data"
    }
   ],
   "source": [
    "model = create_model(best_model)"
   ]
  },
  {
   "cell_type": "markdown",
   "metadata": {},
   "source": [
    "# Testando o modelo"
   ]
  },
  {
   "cell_type": "markdown",
   "metadata": {},
   "source": [
    "Após a seleção do melhor modelo vamos aos testes"
   ]
  },
  {
   "cell_type": "code",
   "execution_count": 10,
   "metadata": {},
   "outputs": [
    {
     "data": {
      "text/html": [
       "<style type=\"text/css\">\n",
       "</style>\n",
       "<table id=\"T_aa79a\">\n",
       "  <thead>\n",
       "    <tr>\n",
       "      <th class=\"blank level0\" >&nbsp;</th>\n",
       "      <th id=\"T_aa79a_level0_col0\" class=\"col_heading level0 col0\" >Model</th>\n",
       "      <th id=\"T_aa79a_level0_col1\" class=\"col_heading level0 col1\" >Accuracy</th>\n",
       "      <th id=\"T_aa79a_level0_col2\" class=\"col_heading level0 col2\" >AUC</th>\n",
       "      <th id=\"T_aa79a_level0_col3\" class=\"col_heading level0 col3\" >Recall</th>\n",
       "      <th id=\"T_aa79a_level0_col4\" class=\"col_heading level0 col4\" >Prec.</th>\n",
       "      <th id=\"T_aa79a_level0_col5\" class=\"col_heading level0 col5\" >F1</th>\n",
       "      <th id=\"T_aa79a_level0_col6\" class=\"col_heading level0 col6\" >Kappa</th>\n",
       "      <th id=\"T_aa79a_level0_col7\" class=\"col_heading level0 col7\" >MCC</th>\n",
       "    </tr>\n",
       "  </thead>\n",
       "  <tbody>\n",
       "    <tr>\n",
       "      <th id=\"T_aa79a_level0_row0\" class=\"row_heading level0 row0\" >0</th>\n",
       "      <td id=\"T_aa79a_row0_col0\" class=\"data row0 col0\" >Gradient Boosting Classifier</td>\n",
       "      <td id=\"T_aa79a_row0_col1\" class=\"data row0 col1\" >0.9137</td>\n",
       "      <td id=\"T_aa79a_row0_col2\" class=\"data row0 col2\" >0.9428</td>\n",
       "      <td id=\"T_aa79a_row0_col3\" class=\"data row0 col3\" >0.9110</td>\n",
       "      <td id=\"T_aa79a_row0_col4\" class=\"data row0 col4\" >0.9309</td>\n",
       "      <td id=\"T_aa79a_row0_col5\" class=\"data row0 col5\" >0.9209</td>\n",
       "      <td id=\"T_aa79a_row0_col6\" class=\"data row0 col6\" >0.8261</td>\n",
       "      <td id=\"T_aa79a_row0_col7\" class=\"data row0 col7\" >0.8263</td>\n",
       "    </tr>\n",
       "  </tbody>\n",
       "</table>\n"
      ],
      "text/plain": [
       "<pandas.io.formats.style.Styler at 0x2b16c4ae710>"
      ]
     },
     "metadata": {},
     "output_type": "display_data"
    },
    {
     "data": {
      "text/html": [
       "<div>\n",
       "<style scoped>\n",
       "    .dataframe tbody tr th:only-of-type {\n",
       "        vertical-align: middle;\n",
       "    }\n",
       "\n",
       "    .dataframe tbody tr th {\n",
       "        vertical-align: top;\n",
       "    }\n",
       "\n",
       "    .dataframe thead th {\n",
       "        text-align: right;\n",
       "    }\n",
       "</style>\n",
       "<table border=\"1\" class=\"dataframe\">\n",
       "  <thead>\n",
       "    <tr style=\"text-align: right;\">\n",
       "      <th></th>\n",
       "      <th>Idade</th>\n",
       "      <th>Gênero</th>\n",
       "      <th>IMC</th>\n",
       "      <th>Consumo de álcool</th>\n",
       "      <th>Tabagismo</th>\n",
       "      <th>Risco genético</th>\n",
       "      <th>Atividade física</th>\n",
       "      <th>Diabetes</th>\n",
       "      <th>Hipertensão</th>\n",
       "      <th>Teste de função hepática</th>\n",
       "      <th>Diagnóstico</th>\n",
       "      <th>prediction_label</th>\n",
       "      <th>prediction_score_0</th>\n",
       "      <th>prediction_score_1</th>\n",
       "    </tr>\n",
       "  </thead>\n",
       "  <tbody>\n",
       "    <tr>\n",
       "      <th>1022</th>\n",
       "      <td>58</td>\n",
       "      <td>0</td>\n",
       "      <td>19.507698</td>\n",
       "      <td>14.617593</td>\n",
       "      <td>1</td>\n",
       "      <td>1</td>\n",
       "      <td>3.524359</td>\n",
       "      <td>1</td>\n",
       "      <td>0</td>\n",
       "      <td>90.429573</td>\n",
       "      <td>1</td>\n",
       "      <td>1</td>\n",
       "      <td>0.0166</td>\n",
       "      <td>0.9834</td>\n",
       "    </tr>\n",
       "    <tr>\n",
       "      <th>561</th>\n",
       "      <td>74</td>\n",
       "      <td>1</td>\n",
       "      <td>16.121340</td>\n",
       "      <td>4.930398</td>\n",
       "      <td>0</td>\n",
       "      <td>0</td>\n",
       "      <td>0.418216</td>\n",
       "      <td>0</td>\n",
       "      <td>0</td>\n",
       "      <td>91.550247</td>\n",
       "      <td>1</td>\n",
       "      <td>1</td>\n",
       "      <td>0.4750</td>\n",
       "      <td>0.5250</td>\n",
       "    </tr>\n",
       "    <tr>\n",
       "      <th>318</th>\n",
       "      <td>22</td>\n",
       "      <td>0</td>\n",
       "      <td>33.852692</td>\n",
       "      <td>7.102633</td>\n",
       "      <td>0</td>\n",
       "      <td>1</td>\n",
       "      <td>7.163545</td>\n",
       "      <td>0</td>\n",
       "      <td>0</td>\n",
       "      <td>91.929771</td>\n",
       "      <td>0</td>\n",
       "      <td>0</td>\n",
       "      <td>0.9223</td>\n",
       "      <td>0.0777</td>\n",
       "    </tr>\n",
       "    <tr>\n",
       "      <th>846</th>\n",
       "      <td>45</td>\n",
       "      <td>0</td>\n",
       "      <td>37.049805</td>\n",
       "      <td>7.430930</td>\n",
       "      <td>0</td>\n",
       "      <td>0</td>\n",
       "      <td>5.265194</td>\n",
       "      <td>0</td>\n",
       "      <td>0</td>\n",
       "      <td>80.132538</td>\n",
       "      <td>0</td>\n",
       "      <td>0</td>\n",
       "      <td>0.9180</td>\n",
       "      <td>0.0820</td>\n",
       "    </tr>\n",
       "    <tr>\n",
       "      <th>604</th>\n",
       "      <td>48</td>\n",
       "      <td>1</td>\n",
       "      <td>28.249788</td>\n",
       "      <td>5.071682</td>\n",
       "      <td>0</td>\n",
       "      <td>2</td>\n",
       "      <td>2.104618</td>\n",
       "      <td>0</td>\n",
       "      <td>0</td>\n",
       "      <td>83.967606</td>\n",
       "      <td>1</td>\n",
       "      <td>1</td>\n",
       "      <td>0.1134</td>\n",
       "      <td>0.8866</td>\n",
       "    </tr>\n",
       "    <tr>\n",
       "      <th>...</th>\n",
       "      <td>...</td>\n",
       "      <td>...</td>\n",
       "      <td>...</td>\n",
       "      <td>...</td>\n",
       "      <td>...</td>\n",
       "      <td>...</td>\n",
       "      <td>...</td>\n",
       "      <td>...</td>\n",
       "      <td>...</td>\n",
       "      <td>...</td>\n",
       "      <td>...</td>\n",
       "      <td>...</td>\n",
       "      <td>...</td>\n",
       "      <td>...</td>\n",
       "    </tr>\n",
       "    <tr>\n",
       "      <th>1002</th>\n",
       "      <td>29</td>\n",
       "      <td>0</td>\n",
       "      <td>23.433504</td>\n",
       "      <td>3.624511</td>\n",
       "      <td>0</td>\n",
       "      <td>0</td>\n",
       "      <td>2.484685</td>\n",
       "      <td>1</td>\n",
       "      <td>0</td>\n",
       "      <td>77.851311</td>\n",
       "      <td>0</td>\n",
       "      <td>0</td>\n",
       "      <td>0.8720</td>\n",
       "      <td>0.1280</td>\n",
       "    </tr>\n",
       "    <tr>\n",
       "      <th>18</th>\n",
       "      <td>43</td>\n",
       "      <td>1</td>\n",
       "      <td>24.809843</td>\n",
       "      <td>13.707907</td>\n",
       "      <td>1</td>\n",
       "      <td>0</td>\n",
       "      <td>4.439882</td>\n",
       "      <td>0</td>\n",
       "      <td>0</td>\n",
       "      <td>99.826912</td>\n",
       "      <td>1</td>\n",
       "      <td>1</td>\n",
       "      <td>0.0739</td>\n",
       "      <td>0.9261</td>\n",
       "    </tr>\n",
       "    <tr>\n",
       "      <th>996</th>\n",
       "      <td>72</td>\n",
       "      <td>1</td>\n",
       "      <td>28.181629</td>\n",
       "      <td>16.209364</td>\n",
       "      <td>1</td>\n",
       "      <td>2</td>\n",
       "      <td>8.269035</td>\n",
       "      <td>0</td>\n",
       "      <td>0</td>\n",
       "      <td>53.120083</td>\n",
       "      <td>1</td>\n",
       "      <td>1</td>\n",
       "      <td>0.0019</td>\n",
       "      <td>0.9981</td>\n",
       "    </tr>\n",
       "    <tr>\n",
       "      <th>1664</th>\n",
       "      <td>56</td>\n",
       "      <td>0</td>\n",
       "      <td>17.005556</td>\n",
       "      <td>5.800880</td>\n",
       "      <td>0</td>\n",
       "      <td>0</td>\n",
       "      <td>5.023017</td>\n",
       "      <td>0</td>\n",
       "      <td>1</td>\n",
       "      <td>22.367489</td>\n",
       "      <td>0</td>\n",
       "      <td>0</td>\n",
       "      <td>0.9739</td>\n",
       "      <td>0.0261</td>\n",
       "    </tr>\n",
       "    <tr>\n",
       "      <th>1034</th>\n",
       "      <td>63</td>\n",
       "      <td>0</td>\n",
       "      <td>17.722332</td>\n",
       "      <td>5.090811</td>\n",
       "      <td>0</td>\n",
       "      <td>0</td>\n",
       "      <td>5.107393</td>\n",
       "      <td>0</td>\n",
       "      <td>1</td>\n",
       "      <td>23.890198</td>\n",
       "      <td>0</td>\n",
       "      <td>0</td>\n",
       "      <td>0.9671</td>\n",
       "      <td>0.0329</td>\n",
       "    </tr>\n",
       "  </tbody>\n",
       "</table>\n",
       "<p>510 rows × 14 columns</p>\n",
       "</div>"
      ],
      "text/plain": [
       "      Idade  Gênero        IMC  Consumo de álcool  Tabagismo  Risco genético  \\\n",
       "1022     58       0  19.507698          14.617593          1               1   \n",
       "561      74       1  16.121340           4.930398          0               0   \n",
       "318      22       0  33.852692           7.102633          0               1   \n",
       "846      45       0  37.049805           7.430930          0               0   \n",
       "604      48       1  28.249788           5.071682          0               2   \n",
       "...     ...     ...        ...                ...        ...             ...   \n",
       "1002     29       0  23.433504           3.624511          0               0   \n",
       "18       43       1  24.809843          13.707907          1               0   \n",
       "996      72       1  28.181629          16.209364          1               2   \n",
       "1664     56       0  17.005556           5.800880          0               0   \n",
       "1034     63       0  17.722332           5.090811          0               0   \n",
       "\n",
       "      Atividade física  Diabetes  Hipertensão  Teste de função hepática  \\\n",
       "1022          3.524359         1            0                 90.429573   \n",
       "561           0.418216         0            0                 91.550247   \n",
       "318           7.163545         0            0                 91.929771   \n",
       "846           5.265194         0            0                 80.132538   \n",
       "604           2.104618         0            0                 83.967606   \n",
       "...                ...       ...          ...                       ...   \n",
       "1002          2.484685         1            0                 77.851311   \n",
       "18            4.439882         0            0                 99.826912   \n",
       "996           8.269035         0            0                 53.120083   \n",
       "1664          5.023017         0            1                 22.367489   \n",
       "1034          5.107393         0            1                 23.890198   \n",
       "\n",
       "      Diagnóstico  prediction_label  prediction_score_0  prediction_score_1  \n",
       "1022            1                 1              0.0166              0.9834  \n",
       "561             1                 1              0.4750              0.5250  \n",
       "318             0                 0              0.9223              0.0777  \n",
       "846             0                 0              0.9180              0.0820  \n",
       "604             1                 1              0.1134              0.8866  \n",
       "...           ...               ...                 ...                 ...  \n",
       "1002            0                 0              0.8720              0.1280  \n",
       "18              1                 1              0.0739              0.9261  \n",
       "996             1                 1              0.0019              0.9981  \n",
       "1664            0                 0              0.9739              0.0261  \n",
       "1034            0                 0              0.9671              0.0329  \n",
       "\n",
       "[510 rows x 14 columns]"
      ]
     },
     "execution_count": 10,
     "metadata": {},
     "output_type": "execute_result"
    }
   ],
   "source": [
    "predict_model(best_model, raw_score= True)"
   ]
  },
  {
   "cell_type": "markdown",
   "metadata": {},
   "source": [
    "Aplicando o 'prdict_model' observamos que o modelo entrega boas métricas também para a base de teste. Com o parâmetro 'raw_score' temos uma informação muito interessante que são os scores de predição do modelo tanto para se a variável alvo assumir o valor 0 como assumir o valor 1."
   ]
  },
  {
   "cell_type": "markdown",
   "metadata": {},
   "source": [
    "Para avançarmos mais no entendimento do modelo podemos aplicar o comando 'evaluate_model'. Esse comando retorna uma forma dinâmica de apresentar as como o modelo foi construído e suas métricas"
   ]
  },
  {
   "cell_type": "code",
   "execution_count": 11,
   "metadata": {},
   "outputs": [
    {
     "data": {
      "application/vnd.jupyter.widget-view+json": {
       "model_id": "d9c08a265a9845d0986fb0b63be317f9",
       "version_major": 2,
       "version_minor": 0
      },
      "text/plain": [
       "interactive(children=(ToggleButtons(description='Plot Type:', icons=('',), options=(('Pipeline Plot', 'pipelin…"
      ]
     },
     "metadata": {},
     "output_type": "display_data"
    }
   ],
   "source": [
    "evaluate_model(best_model)"
   ]
  },
  {
   "cell_type": "markdown",
   "metadata": {},
   "source": [
    "Dentre as principais informações se destacam os seguintes:\n",
    " - Pipeline Plot\n",
    " - Curva AUC\n",
    " - Learning Curve\n",
    " - Feature Importance\n",
    "\n",
    "Claro que essa obervação é puramente pessoal, cada aspecto de entendimento do modelo parte da necessidade do negócio e a configuração do modelo.   "
   ]
  },
  {
   "cell_type": "markdown",
   "metadata": {},
   "source": [
    "# Finalização do Projeto"
   ]
  },
  {
   "cell_type": "markdown",
   "metadata": {},
   "source": [
    "Depois de todas essas etapas para finalizar precisamos preparar o modelo para que o hospital possa utilizá-lo em seus diagnósticos"
   ]
  },
  {
   "cell_type": "code",
   "execution_count": 12,
   "metadata": {},
   "outputs": [],
   "source": [
    "final_best = finalize_model(best_model)"
   ]
  },
  {
   "cell_type": "code",
   "execution_count": 13,
   "metadata": {},
   "outputs": [
    {
     "name": "stdout",
     "output_type": "stream",
     "text": [
      "Transformation Pipeline and Model Successfully Saved\n"
     ]
    },
    {
     "data": {
      "text/plain": [
       "(Pipeline(memory=Memory(location=None),\n",
       "          steps=[('numerical_imputer',\n",
       "                  TransformerWrapper(exclude=None,\n",
       "                                     include=['Idade', 'IMC',\n",
       "                                              'Consumo de álcool',\n",
       "                                              'Atividade física',\n",
       "                                              'Teste de função hepática'],\n",
       "                                     transformer=SimpleImputer(add_indicator=False,\n",
       "                                                               copy=True,\n",
       "                                                               fill_value=None,\n",
       "                                                               keep_empty_features=False,\n",
       "                                                               missing_values=nan,\n",
       "                                                               strategy='mean'))),\n",
       "                 ('categorical_imputer',\n",
       "                  Transform...\n",
       "                                             criterion='friedman_mse', init=None,\n",
       "                                             learning_rate=0.1, loss='log_loss',\n",
       "                                             max_depth=3, max_features=None,\n",
       "                                             max_leaf_nodes=None,\n",
       "                                             min_impurity_decrease=0.0,\n",
       "                                             min_samples_leaf=1,\n",
       "                                             min_samples_split=2,\n",
       "                                             min_weight_fraction_leaf=0.0,\n",
       "                                             n_estimators=100,\n",
       "                                             n_iter_no_change=None,\n",
       "                                             random_state=8413, subsample=1.0,\n",
       "                                             tol=0.0001, validation_fraction=0.1,\n",
       "                                             verbose=0, warm_start=False))],\n",
       "          verbose=False),\n",
       " 'Diagnóstico.pkl')"
      ]
     },
     "execution_count": 13,
     "metadata": {},
     "output_type": "execute_result"
    }
   ],
   "source": [
    "save_model(final_best, 'Diagnóstico')"
   ]
  },
  {
   "cell_type": "markdown",
   "metadata": {},
   "source": [
    "O comando 'finalize_model' vai fazer treinaer o modelo com toda a base de dados e por fim o 'save_model' vai salvar o modelo para que seja realizada o processo de deploy desse projeto"
   ]
  },
  {
   "cell_type": "markdown",
   "metadata": {},
   "source": [
    "Que tal agora passarmos alguns dados para testar o funcionamento do modelo?"
   ]
  },
  {
   "cell_type": "code",
   "execution_count": 14,
   "metadata": {},
   "outputs": [
    {
     "name": "stdout",
     "output_type": "stream",
     "text": [
      "Transformation Pipeline and Model Successfully Loaded\n"
     ]
    }
   ],
   "source": [
    "loaded_model = load_model('Diagnóstico')"
   ]
  },
  {
   "cell_type": "code",
   "execution_count": 15,
   "metadata": {},
   "outputs": [],
   "source": [
    "novos_dados = pd.DataFrame({\n",
    "    'Idade': [27, 35],\n",
    "    'Gênero': [1, 0],\n",
    "    'IMC': [31, 28],\n",
    "    'Consumo de álcool': [10, 20],\n",
    "    'Tabagismo': [0, 1],\n",
    "    'Risco genético': [1, 1],\n",
    "    'Atividade física': [0, 1],\n",
    "    'Diabetes': [0, 0],\n",
    "    'Hipertensão': [1, 1],\n",
    "    'Teste de função hepática': [42.734240, 68.58555],\n",
    "})"
   ]
  },
  {
   "cell_type": "code",
   "execution_count": 16,
   "metadata": {},
   "outputs": [
    {
     "data": {
      "text/html": [],
      "text/plain": [
       "<IPython.core.display.HTML object>"
      ]
     },
     "metadata": {},
     "output_type": "display_data"
    },
    {
     "data": {
      "text/html": [
       "<div>\n",
       "<style scoped>\n",
       "    .dataframe tbody tr th:only-of-type {\n",
       "        vertical-align: middle;\n",
       "    }\n",
       "\n",
       "    .dataframe tbody tr th {\n",
       "        vertical-align: top;\n",
       "    }\n",
       "\n",
       "    .dataframe thead th {\n",
       "        text-align: right;\n",
       "    }\n",
       "</style>\n",
       "<table border=\"1\" class=\"dataframe\">\n",
       "  <thead>\n",
       "    <tr style=\"text-align: right;\">\n",
       "      <th></th>\n",
       "      <th>Idade</th>\n",
       "      <th>Gênero</th>\n",
       "      <th>IMC</th>\n",
       "      <th>Consumo de álcool</th>\n",
       "      <th>Tabagismo</th>\n",
       "      <th>Risco genético</th>\n",
       "      <th>Atividade física</th>\n",
       "      <th>Diabetes</th>\n",
       "      <th>Hipertensão</th>\n",
       "      <th>Teste de função hepática</th>\n",
       "      <th>prediction_label</th>\n",
       "      <th>prediction_score_0</th>\n",
       "      <th>prediction_score_1</th>\n",
       "    </tr>\n",
       "  </thead>\n",
       "  <tbody>\n",
       "    <tr>\n",
       "      <th>0</th>\n",
       "      <td>27</td>\n",
       "      <td>1</td>\n",
       "      <td>31</td>\n",
       "      <td>10</td>\n",
       "      <td>0</td>\n",
       "      <td>1</td>\n",
       "      <td>0</td>\n",
       "      <td>0</td>\n",
       "      <td>1</td>\n",
       "      <td>42.734241</td>\n",
       "      <td>0</td>\n",
       "      <td>0.5749</td>\n",
       "      <td>0.4251</td>\n",
       "    </tr>\n",
       "    <tr>\n",
       "      <th>1</th>\n",
       "      <td>35</td>\n",
       "      <td>0</td>\n",
       "      <td>28</td>\n",
       "      <td>20</td>\n",
       "      <td>1</td>\n",
       "      <td>1</td>\n",
       "      <td>1</td>\n",
       "      <td>0</td>\n",
       "      <td>1</td>\n",
       "      <td>68.585548</td>\n",
       "      <td>1</td>\n",
       "      <td>0.0095</td>\n",
       "      <td>0.9905</td>\n",
       "    </tr>\n",
       "  </tbody>\n",
       "</table>\n",
       "</div>"
      ],
      "text/plain": [
       "   Idade  Gênero  IMC  Consumo de álcool  Tabagismo  Risco genético  \\\n",
       "0     27       1   31                 10          0               1   \n",
       "1     35       0   28                 20          1               1   \n",
       "\n",
       "   Atividade física  Diabetes  Hipertensão  Teste de função hepática  \\\n",
       "0                 0         0            1                 42.734241   \n",
       "1                 1         0            1                 68.585548   \n",
       "\n",
       "   prediction_label  prediction_score_0  prediction_score_1  \n",
       "0                 0              0.5749              0.4251  \n",
       "1                 1              0.0095              0.9905  "
      ]
     },
     "execution_count": 16,
     "metadata": {},
     "output_type": "execute_result"
    }
   ],
   "source": [
    "predict_model(loaded_model, raw_score= True, data = novos_dados)"
   ]
  },
  {
   "cell_type": "markdown",
   "metadata": {},
   "source": [
    "Teste realizado com sucesso!"
   ]
  },
  {
   "cell_type": "markdown",
   "metadata": {},
   "source": [
    "# Considerações Finais"
   ]
  },
  {
   "cell_type": "markdown",
   "metadata": {},
   "source": [
    "Conforme mensionado anteriormente esse post tem o objetivo de apresentar a biblioteca PyCaret e aplicá-la a um projeto de machine learning de previsão de doença hepática. \n",
    "\n",
    "A biblioteca PyCaret cumpre seu propósito estabelecido, proporcionando uma grande ajuda ao cientista de dados na construção de projetos de machine learning. É notável a rapidez com que conseguimos alcançar os melhores resultados, tornando o processo mais simples e eficiente."
   ]
  },
  {
   "cell_type": "markdown",
   "metadata": {},
   "source": [
    "Entretanto, é importante destacar que, para utilizar o PyCaret de forma eficaz, é necessário um entendimento profundo da biblioteca. O uso dos parâmetros padrão pode levar a uma certa \"cegueira\" do cientista de dados, que pode não compreender totalmente o que ocorre nos bastidores. Etapas como tratamento de valores faltantes, tratamento de variáveis categóricas, balanceamento da base de dados, normalização e padronização dos dados são todas fundamentais e podem ser realizadas pelo PyCaret. Esses processos impactam significativamente o desempenho do modelo e devem ser bem compreendidos e ajustados conforme necessário."
   ]
  },
  {
   "cell_type": "markdown",
   "metadata": {},
   "source": [
    "Outro fator importante é a vasta quantidade de ferramentas disponíveis nesta biblioteca. Podemos ajustar os modelos com o comando tune_model e trabalhar com diferentes tipos de problemas, como regressão e modelos não supervisionados. Além disso, é possível integrar com a biblioteca SHAP para melhorar o processo de análise interpretativa. O PyCaret também facilita o processo de deployment, permitindo a implementação de modelos tanto localmente quanto em provedores de nuvem como AWS, GCP e Azure."
   ]
  },
  {
   "cell_type": "markdown",
   "metadata": {},
   "source": [
    "Enfim, uma ótima opção para um cientista de dados"
   ]
  }
 ],
 "metadata": {
  "kernelspec": {
   "display_name": "Python 3 (ipykernel)",
   "language": "python",
   "name": "python3"
  },
  "language_info": {
   "codemirror_mode": {
    "name": "ipython",
    "version": 3
   },
   "file_extension": ".py",
   "mimetype": "text/x-python",
   "name": "python",
   "nbconvert_exporter": "python",
   "pygments_lexer": "ipython3",
   "version": "3.10.14"
  }
 },
 "nbformat": 4,
 "nbformat_minor": 4
}
